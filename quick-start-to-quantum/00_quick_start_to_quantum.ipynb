{
 "cells": [
  {
   "cell_type": "code",
   "execution_count": null,
   "metadata": {},
   "outputs": [],
   "source": [
    "# SPDX-License-Identifier: Apache-2.0 AND CC-BY-NC-4.0\n",
    "#\n",
    "# Licensed under the Apache License, Version 2.0 (the \"License\");\n",
    "# you may not use this file except in compliance with the License.\n",
    "# You may obtain a copy of the License at\n",
    "#\n",
    "# http://www.apache.org/licenses/LICENSE-2.0\n",
    "#\n",
    "# Unless required by applicable law or agreed to in writing, software\n",
    "# distributed under the License is distributed on an \"AS IS\" BASIS,\n",
    "# WITHOUT WARRANTIES OR CONDITIONS OF ANY KIND, either express or implied.\n",
    "# See the License for the specific language governing permissions and\n",
    "# limitations under the License."
   ]
  },
  {
   "cell_type": "markdown",
   "metadata": {},
   "source": [
    "# Quick Start to Quantum Computing: Programming Variational Algorithms with CUDA-Q\n",
    "\n",
    "**What the Quick Start to Quantum Computing is:** These notebooks provide a quick and practical introduction to the basic quantum concepts sufficient to program and interpret variational algorithms. Additionally, through the interactive coding exercises, readers will learn the basics of the CUDA-Q platform.\n",
    "\n",
    "**What the Quick Start to Quantum Computing is not:** These notebooks do not claim to provide an exhaustive introduction to quantum information science.  We make several unspoken assumptions and simplifications to give the reader, who may be unfamiliar with quantum mechanics, a general sense of quantum computing so that they can begin to explore variational algorithms. Readers interested in a more thorough introduction to quantum information science are encouraged to read one of several texts on the subject for instance [Introduction to Classical and Quantum Computing](https://www.thomaswong.net/introduction-to-classical-and-quantum-computing-1e4p.pdf), [Quantum Computer Science](http://mermin.lassp.cornell.edu/qcomp/CS483.html), or [Introduction to Quantum Information Science](https://qubit.guide), or watch online lectures such as [this series](https://www.youtube.com/playlist?list=PLkespgaZN4gmu0nWNmfMflVRqw0VPkCGH).\n",
    "\n",
    "**Pre-requisites:** Learners should have familiarity with Jupyter notebooks and programming in Python.  Additionally, pre-requisite knowledge includes complex numbers, linear algebra, and statistics. In particular, we assume experience computing and understanding of arithmetic of complex numbers, probabilities, expectation values, vectors, dot products, and matrix multiplication. Knowledge of eigenvalues and eigenvectors will be helpful, but not necessarily a requirement.   \n",
    "\n",
    "Learning Objectives:\n",
    "* Employ multiple representations of quantum states and gates including bra-ket notation, matrix representation, and Bloch sphere visualization\n",
    "* Recognize terminology including superposition, entanglement, interference, phase, quantum circuit, quantum kernel, measurement, Hamiltonian, expectation value, etc. \n",
    "* Construct quantum kernels using CUDA-Q\n",
    "* Execute quantum programs and hybrid quantum-classical programs using CUDA-Q and interpret the results\n",
    "* Program variational quantum algorithms to explore the solution space of an optimization problem\n",
    "* Discover opportunities for accelerating hybrid programs on a GPU\n",
    "\n",
    "Outline\n",
    "* Lab 1 - Start Small: Learn quantum information and quantum programming with one qubit\n",
    "* Lab 2 - Move onto Bigger and More Entangled Things: Program with multiple qubits \n",
    "* Lab 3 - Add a Bit of Variation: Write your first hybrid variational program\n",
    "* Lab 4 - Speed Things Up: Accelerate hybrid programs on a GPU"
   ]
  },
  {
   "cell_type": "markdown",
   "metadata": {},
   "source": []
  }
 ],
 "metadata": {
  "language_info": {
   "name": "python"
  }
 },
 "nbformat": 4,
 "nbformat_minor": 2
}
