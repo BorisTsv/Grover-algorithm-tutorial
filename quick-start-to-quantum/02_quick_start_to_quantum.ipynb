{
  "cells": [
    {
      "cell_type": "code",
      "execution_count": null,
      "id": "eead95ce",
      "metadata": {
        "id": "eead95ce"
      },
      "outputs": [],
      "source": [
        "# SPDX-License-Identifier: Apache-2.0 AND CC-BY-NC-4.0\n",
        "#\n",
        "# Licensed under the Apache License, Version 2.0 (the \"License\");\n",
        "# you may not use this file except in compliance with the License.\n",
        "# You may obtain a copy of the License at\n",
        "#\n",
        "# http://www.apache.org/licenses/LICENSE-2.0\n",
        "#\n",
        "# Unless required by applicable law or agreed to in writing, software\n",
        "# distributed under the License is distributed on an \"AS IS\" BASIS,\n",
        "# WITHOUT WARRANTIES OR CONDITIONS OF ANY KIND, either express or implied.\n",
        "# See the License for the specific language governing permissions and\n",
        "# limitations under the License."
      ]
    },
    {
      "cell_type": "markdown",
      "id": "135f6e3e-e55f-4b5c-80cb-f8979bba94e0",
      "metadata": {
        "id": "135f6e3e-e55f-4b5c-80cb-f8979bba94e0"
      },
      "source": [
        "# Quick start to Quantum Programming with CUDA-Q\n",
        "\n",
        "# Lab 2 - Move onto Bigger and More Entangled Things: Programming with multiple qubits\n",
        "\n",
        "## Overview\n",
        "\n",
        "We'll continue to use the same template for creating a quantum program as in Lab 1:\n",
        "\n",
        "* Encode information into the quantum state by initializing qubit(s)\n",
        "* Manipulate the quantum state of the qubit(s) with quantum gate(s)\n",
        "* Extract information from the quantum state by measuring the state of the qubit(s)\n",
        "\n",
        "These three steps are outlined in the diagram below:\n",
        "\n",
        "<img src=\"https://raw.githubusercontent.com/NVIDIA/cuda-q-academic/main/images/circuit.png\" alt=\"image of a quantum circuit with the three partsL encode information, manipulate quantum states, extract information\" width=\"200\"/>\n",
        "\n",
        "However, in this lab, in addition to programming with more than one qubit, we'll use this opportunity to demonstrate a practical programming practice of creating \"subkernels\" (similar to subroutines in a classical program) that can be reused and combined.  \n",
        "\n",
        "\n",
        "**What you'll do:**\n",
        "\n",
        "Through the interactive code blocks and exercises in this lab, you will\n",
        "\n",
        "* Recognize allowable arguments accepted into a cudaq kernel function\n",
        "* Apply a variety of single and multi-qubit gates to qubits using CUDA-Q and reason about the outcome of these operations\n",
        "* Write quantum kernels that accept individual qubits or a register of qubits as arguments\n",
        "* Write and apply kernels as subkernels (i.e., subroutines)\n",
        "* Read and interpret quantum circuit diagrams\n",
        "* Encode classical information (in particular, integers) into qubits using binary notation and the `x` gate\n",
        "\n",
        "**Terminology you'll use:**\n",
        "\n",
        "* Computational basis states (basis states for short)\n",
        "* Probability amplitude\n",
        "* Statevector\n",
        "* (optional) Phase, relative phase, global phase\n",
        "* Entanglement\n",
        "* Interference\n",
        "* Control and target for multi-qubit controlled-operations\n",
        "\n",
        "**CUDA-Q syntax you'll use:**\n",
        "* defining a quantum kernel: `@cudaq.kernel`,\n",
        "* qubit initialization: `cudaq.qvector` and `cudaq.qubit`\n",
        "* quantum gates: `x`, `h`, `y`, `z`, `t`, `s`, `swap`, and the `ctrl` method\n",
        "* extracting information from a kernel: `get_state`, `get_state.amplitude()`, `sample`\n",
        "* visualization tools: `add_to_bloch_sphere`, `show`, `draw`\n",
        "\n"
      ]
    },
    {
      "cell_type": "markdown",
      "id": "b5046650",
      "metadata": {
        "id": "b5046650"
      },
      "source": [
        "Execute the cell below to load all the necessary packages for this lab."
      ]
    },
    {
      "cell_type": "code",
      "execution_count": null,
      "id": "1Cgf3XIBzDv6",
      "metadata": {
        "colab": {
          "base_uri": "https://localhost:8080/"
        },
        "collapsed": true,
        "id": "1Cgf3XIBzDv6",
        "outputId": "8a0055d0-015e-4713-c2de-17858cea3d3d"
      },
      "outputs": [],
      "source": [
        "# Instructions for Google Colab. You can ignore this cell if you have cuda-q set up.\n",
        "# Run this notebook in a CPU runtime\n",
        "# Uncomment the line below and execute the cell to install cuda-q\n",
        "# !pip install cudaq"
      ]
    },
    {
      "cell_type": "code",
      "execution_count": 2,
      "id": "644b9c82",
      "metadata": {
        "id": "644b9c82"
      },
      "outputs": [],
      "source": [
        "# Necessary packages\n",
        "\n",
        "import cudaq\n",
        "import numpy as np\n"
      ]
    },
    {
      "cell_type": "code",
      "execution_count": null,
      "id": "111772f8",
      "metadata": {
        "id": "111772f8"
      },
      "outputs": [],
      "source": [
        "# install `qutip` in the current Python kernel. Skip this if `qutip` is already installed.\n",
        "# `matplotlib` is required for all visualization tasks.\n",
        "# Make sure to restart your kernel if you execute this!\n",
        "# In a Jupyter notebook, go to the menu bar > Kernel > Restart Kernel.\n",
        "# In VSCode, click on the Restart button in the Jupyter toolbar.\n",
        "\n",
        "# The '\\' before the '>' operator is so that the shell does not misunderstand\n",
        "# the '>' qualifier for the bash pipe operation.\n",
        "\n",
        "import sys\n",
        "\n",
        "try:\n",
        "    import matplotlib.pyplot as plt\n",
        "    import qutip\n",
        "\n",
        "except ImportError:\n",
        "    print(\"Tools not found, installing. Please restart your kernel after this is done.\")\n",
        "    !{sys.executable} -m pip install qutip\\>=5 matplotlib\\>=3.5\n",
        "    print(\"\\nNew libraries have been installed. Please restart your kernel!\")"
      ]
    },
    {
      "cell_type": "markdown",
      "id": "c2fa8e57-2f20-4d1b-a8c1-a8291da83fdc",
      "metadata": {
        "id": "c2fa8e57-2f20-4d1b-a8c1-a8291da83fdc"
      },
      "source": [
        "## 2.1 Program with more than one qubit\n"
      ]
    },
    {
      "cell_type": "markdown",
      "id": "1d81c1fd",
      "metadata": {
        "id": "1d81c1fd"
      },
      "source": [
        "In this section, we'll create two quantum programs to illustrate the concepts of global phase and entanglement.  Additionally, these examples will allow us to demonstrate alternative ways of writing and combining multiple kernels &mdash; a useful technique to have on hand as our quantum algorithms grow in the number of qubits and the number of gate operations.  Both the number of qubits and the number of gate operations are limiting factors in the kind of quantum algorithms that can be run on current quantum hardware or simulated on GPUs.  In fact, we'll quickly see examples of quantum algorithms that we can program, but cannot implement with today's existing technology.\n",
        "\n"
      ]
    },
    {
      "cell_type": "markdown",
      "id": "73a716ba",
      "metadata": {
        "id": "73a716ba"
      },
      "source": [
        "### 2.1.1 Notation for a 2-qubit state\n",
        "$\\newcommand{\\ket}[1]{|#1\\rangle}$\n",
        "In Lab 1, we saw that the quantum state of a single qubit could be written as linear combinations of the states $|0\\rangle$ and $|1\\rangle$.  The states $|0\\rangle$ and $|1\\rangle$ are often referred to as the computational basis states of a single qubit.  When we have 2 qubits, we will need $2^2 = 4$ basis states to describe all possible quantum states of 2 qubits because each qubit could be measured as either a $0$ or a $1$.  The computational basis states used to describe a state of 2 qubits are\n",
        "$$\\ket{00}, \\ket{10}, \\ket{01}, \\text{ and }\\ket{11}.$$\n",
        "\n",
        "What does this notation mean? The expression $\\ket{10}$ represents the state of a system of 2 qubits, (e.g., $q_0$ and $q_1$), where qubit $q_0$ is in the state $\\ket{1}$ and $q_1$ is in the state $\\ket{0}$.  In other words, the left most term (the $1$ in $\\ket{10}$) corresponds to qubit $q_0$'s state and the rightmost term will be correspond to the state of the 2nd qubit.  Since there is no agreed upon standard ordering of qubits, this notational choice may differ from other quantum programming languages that you might run across.\n",
        "\n",
        "The general form of a quantum state of 2 qubits, is a linear combination (or a superposition) of the computational basis states:\n",
        "\n",
        "$$\\ket{\\psi} = \\alpha_{00}\\ket{00}+\\alpha_{10}\\ket{10}+\\alpha_{01}\\ket{01}+\\alpha_{11}\\ket{11},$$\n",
        "where each coefficient (also called a **probability amplitude**) $\\alpha_{ij}$ is a complex number and the sum of the probabilities corresponding to these coefficients is 1, that is: $$\\sum_{i,j\\in\\{0,1\\}} |\\alpha_{ij}|^2 =1.$$  \n",
        "\n",
        "Somtimes it is useful, albeit often less compact, to write the state $\\ket{\\psi}$ as a vector of probability amplitudes:\n",
        "$$\\ket{\\psi} = \\alpha_{00}\\ket{00}+\\alpha_{10}\\ket{10}+\\alpha_{01}\\ket{01}+\\alpha_{11}\\ket{11}\n",
        " = \\begin{pmatrix}\\alpha_{00} \\\\ \\alpha_{10} \\\\ \\alpha_{01} \\\\ \\alpha_{11}\\end{pmatrix}$$\n",
        "\n",
        "\n",
        "In the literature, the term **statevector** refers to a quantum state $\\ket{\\psi}$, but can also refer to the list of probability amplitudes of a quantum state $\\ket{\\psi}$.\n",
        "\n"
      ]
    },
    {
      "cell_type": "markdown",
      "id": "e1ef530e",
      "metadata": {
        "id": "e1ef530e"
      },
      "source": [
        "### 2.1.2 Write and interpret a 2-qubit quantum program"
      ]
    },
    {
      "cell_type": "markdown",
      "id": "f8e103cf",
      "metadata": {
        "id": "f8e103cf"
      },
      "source": [
        "In this section, we'll write a program that builds upon the Bit-Flip and Hello World (minus state) programs from Lab 1.  In particular, our goal is to create one program with 2 qubits.  The first qubit will be initialized in the zero state, and we'll flip it to the one state.  The second qubit will be initialized in the minus state, and just for fun we'll apply the bit flip gate `x` to it too. The diagram represents the circuit for this program.\n",
        "\n",
        "<img src=\"https://raw.githubusercontent.com/NVIDIA/cuda-q-academic/refs/heads/main/images/2-qubit-circuit.png\" alt=\"quantum circuit diagram with 2 qubits\" width=\"200\"/>\n",
        "\n",
        "In our example, qubit $q_0$, which starts in the $\\ket{0}$ state undergoes a bit flip.  So we would expect, as we saw in Lab 1, that when the kernel is sampled in a noiseless setting, $q_0$ will be measured  $100\\%$ of the time as a $\\ket{1}$.   On the other hand, because qubit $q_1$ will be in a state of equal superposition, it will collapse to the $\\ket{0}$ state approximately half of the time and will collapse to $\\ket{1}$ the other times. Putting the information about the state of $q_0$ and $q_1$ together, we expect a $50\\%$ probability of sampling a $\\ket{10}$ and  $50\\%$ probability of sampling a $\\ket{11}$ when running the program depicted above.\n",
        "\n",
        "The statevector of the 2-qubit system after the gates are applied, but  prior to measurement should be $$\\ket{\\psi} = -\\frac{1}{\\sqrt{2}}\\ket{10} +\\frac{1}{\\sqrt{2}}\\ket{11} = \\begin{pmatrix}0 \\\\ -\\frac{1}{\\sqrt{2}} \\\\0\\\\\\frac{1}{\\sqrt{2}} \\end{pmatrix}$$\n",
        "\n",
        "To understand the appearance of the minus sign in the equation above, refer to the optional section on phase later in this notebook.  For now, just notice that by squaring the absolute values of the amplitudes, we see a $50\\%$ probability of sampling a $\\ket{10}$ and  $50\\%$ probability of sampling a $\\ket{11}$.\n",
        "\n",
        "We have several options for writing the CUDA-Q code to carry out the instructions above.  In the next subsections, we'll take a look at two options so that you can see some of the functionality of `cudaq.kernel`. In particular, we'll demonstrate\n",
        "* how to pass individual qubits or a register of qubits to a kernel and\n",
        "* how to use kernels as subkernels (subroutines).\n",
        "\n"
      ]
    },
    {
      "cell_type": "markdown",
      "id": "bf62f27b",
      "metadata": {
        "id": "bf62f27b"
      },
      "source": [
        "#### 2.1.2.1 All-in-one kernel"
      ]
    },
    {
      "cell_type": "markdown",
      "id": "4d2e91a6",
      "metadata": {
        "id": "4d2e91a6"
      },
      "source": [
        "We'll first code the quantum circuit like we did in Lab 1, by writing all the instructions sequentially in one kernel."
      ]
    },
    {
      "cell_type": "code",
      "execution_count": null,
      "id": "d35429b4",
      "metadata": {
        "id": "d35429b4",
        "outputId": "be6a6a43-3bcc-4383-8eb4-df5a4ac3d10b"
      },
      "outputs": [
        {
          "name": "stdout",
          "output_type": "stream",
          "text": [
            "     ╭───╮          \n",
            "q0 : ┤ x ├──────────\n",
            "     ├───┤╭───╮╭───╮\n",
            "q1 : ┤ x ├┤ h ├┤ x ├\n",
            "     ╰───╯╰───╯╰───╯\n",
            "\n"
          ]
        }
      ],
      "source": [
        "# Writing the all-in-one kernel\n",
        "\n",
        "@cudaq.kernel\n",
        "def all_in_one():\n",
        "    \"\"\"Creates a kernel with 2 qubits. The first qubit is initialized\n",
        "    in the zero state, the second qubit is initialized in the minus state.\n",
        "    An x gate is then applied to each qubit.\n",
        "    \"\"\"\n",
        "    # Allocate 2 qubits (indexed by 0 and 1)\n",
        "    qvector = cudaq.qvector(2) # By default these qubits are the zero state\n",
        "\n",
        "    # Initialize qubit indexed with 1 as the minus state\n",
        "    x(qvector[1])\n",
        "    h(qvector[1])\n",
        "\n",
        "    # Manipulate the quantum states by applying the bit flip gate (the `x` gate) to each qubit\n",
        "    x(qvector) # We can apply a single-qubit gate to each qubit in a list of qubits\n",
        "\n",
        "print(cudaq.draw(all_in_one))\n",
        "\n"
      ]
    },
    {
      "cell_type": "markdown",
      "id": "67e65fef",
      "metadata": {
        "id": "67e65fef"
      },
      "source": [
        "Let's check that this kernel generates our target state $\\ket{\\psi} = -\\frac{1}{\\sqrt{2}}\\ket{10} +\\frac{1}{\\sqrt{2}}\\ket{11}$ by using the `get_state` command.  We'll also use the `get_state.amplitudes` option to extract out the coefficients of the computational basis states $\\ket{10}$ and $\\ket{11}$ that are of interest to us."
      ]
    },
    {
      "cell_type": "code",
      "execution_count": null,
      "id": "79a1f557",
      "metadata": {
        "id": "79a1f557",
        "outputId": "c8a12b14-52f0-4169-fd8d-99e495ae09ba"
      },
      "outputs": [
        {
          "name": "stdout",
          "output_type": "stream",
          "text": [
            "All-in-one statevector array of coefficients: [ 0.    +0.j -0.7071+0.j  0.    +0.j  0.7071+0.j]\n",
            "All-in-one statevector: (-0.7071+0j) |10> + (0.7071+0j) |11>\n"
          ]
        }
      ],
      "source": [
        "# Compute the state of the system prior to measurement\n",
        "all_in_one_state = cudaq.get_state(all_in_one)\n",
        "\n",
        "# Return the amplitudes of |10> and |11>\n",
        "all_in_one_amplitudes = all_in_one_state.amplitudes([[1,0], [1,1]])\n",
        "\n",
        "# Print\n",
        "precision = 4\n",
        "print('All-in-one statevector array of coefficients:', np.round(np.array(all_in_one_state), precision))\n",
        "print('All-in-one statevector: {} |10> + {} |11>'.format(np.round(all_in_one_amplitudes[0],precision), np.round(all_in_one_amplitudes[1],precision)))\n"
      ]
    },
    {
      "cell_type": "markdown",
      "id": "7dc599bc",
      "metadata": {
        "id": "7dc599bc"
      },
      "source": [
        "> **Quick Tip:**\n",
        "\n",
        "To remember the ordering of the coefficients in the statevector generated by the `get_state` command, it helps to recall the convention for associating numbers with their binary representations that places the least significant bit on the left.  For example, in a 2-bit system, we have the following translation between integers and bits:\n",
        "$$\\begin{matrix} \\text{Integer} & \\text{Binary representation}\\\\\n",
        "& \\text{least signinificant bit on left}\\\\\n",
        "0 =\\color{red}{0}*2^0+\\color{blue}{0}*2^1 & \\color{red}{0}\\color{blue}{0} \\\\\n",
        "1 = \\color{red}{1}*2^0 + \\color{blue}{0} *2^1 & \\color{red}{1}\\color{blue}{0}\\\\\n",
        "2 = \\color{red}{0}*2^0 + \\color{blue}{1}*2^1 & \\color{red}{0}\\color{blue}{1} \\\\\n",
        "3 = \\color{red}{1}*2^0 + \\color{blue}{1}*2^1 & \\color{red}{1}\\color{blue}{1} \\end{matrix}\n",
        "$$\n",
        "\n",
        "> The `get_state` output generates a list of the coefficients in increasing order: $\\ket{00}, \\ket{10}, \\ket{01}, \\ket{11}$, corresponding to $0,1,2,3.$ To conveniently identify the coefficient for a given basis state, use the `get_state().amplitude()` command. For example, to extract the coefficient for the basis state $\\ket{10}$, use `get_state(my_kernel).amplitude([1,0])`.  To retrieve the amplitudes of more than one state at a time, use the `amplitudes` option applied to a list of basis states, as demonstrated in the code block above.\n"
      ]
    },
    {
      "cell_type": "markdown",
      "id": "4e976a9b",
      "metadata": {
        "id": "4e976a9b"
      },
      "source": [
        "#### 2.1.2.2 Kernels as subroutines"
      ]
    },
    {
      "cell_type": "markdown",
      "id": "dd75f4e7",
      "metadata": {
        "id": "dd75f4e7"
      },
      "source": [
        "In this section, we will create the same quantum circuit as above, but this time we'll use kernels as subroutines. We'll create three separate kernels:\n",
        "\n",
        "* `minus`, a kernel for the subroutine that initializes a given qubit as the minus state\n",
        "* `xgate`, a kernel that applies the `x` gate to a list of qubits\n",
        "* `nested_quantum_program`, a kernel to allocate the qubits and call the `minus` and `xgate` subroutines\n",
        "\n",
        "Let's see how this is done. Take note of how we can pass qubits and lists of qubits to the kernel functions."
      ]
    },
    {
      "cell_type": "code",
      "execution_count": null,
      "id": "f160458a",
      "metadata": {
        "id": "f160458a",
        "outputId": "1eab1a8d-5444-454f-e118-049681d9c6f7"
      },
      "outputs": [
        {
          "name": "stdout",
          "output_type": "stream",
          "text": [
            "     ╭───╮          \n",
            "q0 : ┤ x ├──────────\n",
            "     ├───┤╭───╮╭───╮\n",
            "q1 : ┤ x ├┤ h ├┤ x ├\n",
            "     ╰───╯╰───╯╰───╯\n",
            "\n"
          ]
        }
      ],
      "source": [
        "# Defining three kernels to generate the example circuit\n",
        "\n",
        "# Defining the subroutine, minus, as a kernel\n",
        "@cudaq.kernel\n",
        "def minus(qubit: cudaq.qubit):\n",
        "    \"\"\"When applied to a qubit in the zero state, generates the minus state\n",
        "    Parameters\n",
        "    ----------\n",
        "    qubit : cudaq.qubit\n",
        "        qubit upon which the kernel instructions will be applied\n",
        "    \"\"\"\n",
        "    x(qubit)\n",
        "    h(qubit)\n",
        "\n",
        "# Defining the subroutine, xgate, as a kernel\n",
        "@cudaq.kernel\n",
        "def xgate(qubits: cudaq.qvector):\n",
        "    \"\"\"Applies an x-gate to each qubit in qubits\n",
        "    Parameters\n",
        "    ----------\n",
        "    qubits : cudaq.qvector\n",
        "        list of qubits upon which the kernel instructions will be applied\n",
        "    \"\"\"\n",
        "    x(qubits)\n",
        "\n",
        "# Allocating qubits and calling the subroutines defined above\n",
        "@cudaq.kernel\n",
        "def nested_quantum_program(num_qubits: int):\n",
        "    \"\"\"Creates a kernel with num_qubits-many qubits. The first qubit is initialized\n",
        "    in the zero state, the second qubit is initialized in the minus state.\n",
        "    An x gate is then applied to each qubit. Here num_qubits is at least 2.\n",
        "    Parameters\n",
        "    ----------\n",
        "    num_qubits : int\n",
        "        Number of qubits to be allocated\n",
        "    \"\"\"\n",
        "\n",
        "    # Allocate num_qubits qubits indexed from 0 to num_qubits-1\n",
        "    qvector = cudaq.qvector(num_qubits) # By default these qubits are in the zero state\n",
        "\n",
        "    # Initialize the qubit indexed with 1 as the minus state\n",
        "    # by calling the minus kernel acting on qvector[1]\n",
        "    minus(qvector[1])\n",
        "\n",
        "    # Manipulate the quantum states by applying the bit flip gate (the `x` gate) to each qubit\n",
        "    # by calling the xgate kernel applied to a list of qubits\n",
        "    xgate(qvector)\n",
        "\n",
        "\n",
        "num_qubits = 2 # num_qubits should be an integer > 1\n",
        "\n",
        "print(cudaq.draw(nested_quantum_program,num_qubits))\n",
        "\n"
      ]
    },
    {
      "cell_type": "markdown",
      "id": "cda0fafa",
      "metadata": {
        "id": "cda0fafa"
      },
      "source": [
        "**Exercise:** Edit the `##FIX_ME##` portion of the code block below that uses the `get_state.amplitudes` to verify that the `nested_quantum_program` generates the desired state $\\ket{\\psi} = -\\frac{1}{\\sqrt{2}}\\ket{10}+\\frac{1}{\\sqrt{2}}\\ket{11}$ when `num_qubits` is set to $2$.  "
      ]
    },
    {
      "cell_type": "code",
      "execution_count": null,
      "id": "ccd5077c",
      "metadata": {
        "id": "ccd5077c"
      },
      "outputs": [],
      "source": [
        "# EXERCISE 1\n",
        "num_qubits = 2\n",
        "\n",
        "amplitudes = ##FIX_ME##\n",
        "print('|Psi>= {} |10> + {} |11>'.format(np.round(amplitudes[0],precision), np.round(amplitudes[1],precision)))"
      ]
    },
    {
      "cell_type": "markdown",
      "id": "1dd43f05",
      "metadata": {
        "id": "1dd43f05"
      },
      "source": [
        "Now let's use the `sample` command to compare the two quantum programs. Notice the difference between the arguments in the `sample` command applied to the kernel `all_in_one` versus the\n",
        "`sample` command applied to the kernel `nested_quantum_program` which takes as an argument `num_qubits`."
      ]
    },
    {
      "cell_type": "code",
      "execution_count": null,
      "id": "0d48ea28",
      "metadata": {
        "id": "0d48ea28",
        "outputId": "7d060ff7-d19c-4d8c-97f4-e125f738e0cf"
      },
      "outputs": [
        {
          "name": "stdout",
          "output_type": "stream",
          "text": [
            "All-in-one sampling results: { 11:507 10:493 }\n",
            "\n",
            "Nested results: { 11:519 10:481 }\n",
            "\n"
          ]
        }
      ],
      "source": [
        "# Compare the quasi-probability distributions of each kernel upon sampling\n",
        "shots = 1000\n",
        "\n",
        "# Sample the kernels\n",
        "counts_all_in_one = cudaq.sample(all_in_one, shots_count=shots)\n",
        "counts_nested = cudaq.sample(nested_quantum_program, num_qubits, shots_count=shots)\n",
        "\n",
        "\n",
        "# Print\n",
        "print('All-in-one sampling results:', counts_all_in_one)\n",
        "print('Nested results:', counts_nested)"
      ]
    },
    {
      "cell_type": "markdown",
      "id": "afcb9f4b",
      "metadata": {
        "id": "afcb9f4b"
      },
      "source": [
        "> **Quick Tip:**\n",
        "The `sample` command runs the kernel and takes a measurement `shots_count`-many times. The result of each kernel execution and measurement is a classical bitstring with the $i^{th}$ bit representing the measurement of the $i^{th}$ qubit. The result of the `sample` command is a `SampleResult` dictionary of the distribution of the bitstrings.  To create a more familiar `dict` Python type from your variable `myresult` of type `SampleResult`, use `asDict = {k:v for k,v in myresult.items()}`."
      ]
    },
    {
      "cell_type": "markdown",
      "id": "20414fab",
      "metadata": {
        "id": "20414fab"
      },
      "source": [
        "\n",
        "Before going on, let's interpret the output of the sample command.\n",
        "Based on our prediction the output `{ 11:481 10:519 }` indicates that the first digit in the bitstrings `11` and `10` corresponds to qubit $q_0$, as it is `1` $100\\%$ of the time, and the second digit corresponds to qubit $q_1$, which gets measured about half the time as a `0` and the other half of the time as a `1`.  \n",
        "\n"
      ]
    },
    {
      "cell_type": "markdown",
      "id": "7e776dad",
      "metadata": {
        "id": "7e776dad"
      },
      "source": [
        "> **CUDA-Q Quick Tip:** The code blocks in this section demonstrate the ability for kernels to accept variables and to call one another.  It'll be useful to note:\n",
        "\n",
        "> * CUDA-Q kernels can only accept variables of certain types.  In particular, you can pass an individual qubit (`cudaq:qubit`), a list of qubits (`cudaq:qview`), integers (`int`), floats (`float`), complex values (`complex`), and lists of integers (`list[int]`),floats (`list[float]`), and complex values (`list[complex]`).  The full list of allowable types can be found [here](https://nvidia.github.io/cuda-quantum/latest/specification/cudaq/kernels.html).\n",
        "> * When sampling a kernel that accepts variables, the values for these variables, should appear in the `sample` function as a list following the kernel name, as seen in the example above where our kernel `nested_quantum_kernel` accepted an integer value `num_qubits`: `cudaq.sample(nested_quantum_program, num_qubits, shots_count=shots)`"
      ]
    },
    {
      "cell_type": "markdown",
      "id": "d5813f8c",
      "metadata": {
        "id": "d5813f8c"
      },
      "source": [
        "**Exercise 2:**\n",
        "Write a quantum program, using subkernels, to initialize three qubits in the zero state and place each qubit in the state $\\ket{+}$ if it has even index and qubits with odd index should be placed in the $\\ket{-}$ state (i.e., place $q_0$ and $q_2$ in the plus state and $q_1$ in the minus state.)  Use the `get_state` command to verify that your quantum program generates the desired quantum state. Print out the statevector to confirm. As a bonus, try making your program generic enough that it would work for any number of qubits.\n",
        "\n",
        "For example, the state of a 3 qubit system prior to measurement should be:\n",
        "\n",
        "\\begin{aligned}\\ket{\\psi} &= \\ket{+-+} \\\\ &= (\\frac{1}{\\sqrt{2}}(\\ket{0}+\\ket{1}))\\otimes(\\frac{1}{\\sqrt{2}}(\\ket{0}-\\ket{1}))\\otimes(\\frac{1}{\\sqrt{2}}(\\ket{0}+\\ket{1}) )\\\\ &= \\frac{1}{\\sqrt{8}}(\\ket{000}+\\ket{100}-\\ket{010}-\\ket{110}+\\ket{101}+\\ket{001}-\\ket{011}-\\ket{111}).\\end{aligned}\n",
        "\n",
        "The $\\otimes$ notation above represents a tensor product. For now, you can treat this as a multiplication that satisfies standard multiplication properties such as transitivity and associativity. We will not be using this notation beyond this example. If you'd like a formal introduction to tensor products, check out [section 4.2.1 of this resource](https://www.thomaswong.net/introduction-to-classical-and-quantum-computing-1e4p.pdf).\n",
        "\n",
        "> **CUDA-Q Quick Tip:** Inside a `cudaq.kernel` you can use python commands like `for` loops and `if` statements.  \n"
      ]
    },
    {
      "cell_type": "code",
      "execution_count": null,
      "id": "d1402fe7",
      "metadata": {
        "id": "d1402fe7"
      },
      "outputs": [],
      "source": [
        "# EXERCISE 2\n",
        "\n",
        "num_qubits = 3\n",
        "shots = 1000\n",
        "\n",
        "@cudaq.kernel\n",
        "def alternating_signs(qubit_count: int):\n",
        "    ###FIX_ME###\n",
        "\n",
        "# Draw the circuit\n",
        "print(cudaq.draw(alternating_signs,num_qubits))\n",
        "\n",
        "# Verify state\n",
        "# Compute the state of the system prior to measurement\n",
        "state = ###FIX_ME###\n",
        "\n",
        "# Print\n",
        "precision = 4\n",
        "print('Statevector array of coefficients:', np.round(np.array(state), precision))"
      ]
    },
    {
      "cell_type": "markdown",
      "id": "3f7ca965",
      "metadata": {
        "id": "3f7ca965"
      },
      "source": [
        "#### 2.1.1.3 Phase (optional)\n",
        "\n",
        "Phase is a characteristic of quantum states that we have not yet discussed. Estimating the phase of a given quantum state is an important step in many quantum algorithms including Shor's algorithm.  Additionally, phase helps explain the phenomena of **interference** which is key in algorithms such as Grover's.    \n",
        "\n",
        "Every state has a phase factor.  The **phase factor** of a state can be deduced from the term $e^{i\\varphi}$ in the standard representation of a quantum state: $$\n",
        "\\ket{\\psi} = \\cos(\\frac{\\theta}{2})\\ket{0}+\\sin(\\frac{\\theta}{2})e^{i\\varphi}\\ket{1}. $$\n",
        "\n",
        "We are often interested when two states have different phases.  This can happen in one of two ways: differing by a global phase or by a relative phase.  We've seen examples of both of these already in Lab 1 and in the previous examples in this lab.  \n",
        "\n",
        "Let's take a deeper look at qubit $q_1$ in the `nested_quantum_program` example from the previous section.  We can follow the state of $q_1$ as it changes throughout the kernel execution. We begin in the state $\\ket{0}$ which is flipped to $\\ket{1}$. Then, an application of the $H$ gate takes us to $\\ket{-} = \\frac{1}{\\sqrt{2}}\\ket{0}-\\frac{1}{\\sqrt{2}}\\ket{1}$.  This is followed by an application of the bit flip operator $X=\\begin{pmatrix}0 & 1 \\\\ 1 & 0\\end{pmatrix}$.  Carrying out this matrix multiplication we get that the state of $q_1$ prior to the measurement is:\n",
        "$$ X\\ket{-}=\\begin{pmatrix}0 & 1 \\\\ 1 & 0\\end{pmatrix}\\begin{pmatrix} \\frac{1}{\\sqrt{2}} \\\\ -\\frac{1}{\\sqrt{2}}\\end{pmatrix}\n",
        "= \\begin{pmatrix} -\\frac{1}{\\sqrt{2}} \\\\ \\frac{1}{\\sqrt{2}}\\end{pmatrix} = -\\ket{-}.\n",
        "$$\n",
        "\n",
        "When we measure $ -\\ket{-}$ we get a similar quasi-probability distribution that we would get if we measured  $\\ket{-}$.  We saw this behavior in Lab 1, where $\\ket{+}$ and $\\ket{-}$ had indistinguishable quasi-probability distributions upon measurement with `mz`.  However, if we measured the states $\\ket{+}$ and $\\ket{-}$ with `mx` we could distinguish the two states through their quasi-probability distributions.  Unlike in Lab 1, there is no measurement that we can apply to $\\ket{-}$ and $-\\ket{-}$ to distinguish them.\n",
        "\n",
        "The state $\\ket{-}$ and $-\\ket{-}$ only differ by a scalar multiple of $-1$.  When states only differ by a factor of $-1$, they are said to differ by a **global phase**.  And these states cannot be distinguished from one another through any measurements, so they are often treated as being equivalent, or interchangeable.\n",
        "\n",
        "This is in contrast to the states $$\\ket{+} =  \\frac{1}{\\sqrt{2}}\\ket{0}+\\frac{1}{\\sqrt{2}}\\ket{1}=\\frac{1}{\\sqrt{2}}\\ket{0}+e^{i*0}\\frac{1}{\\sqrt{2}}\\ket{1}$$ and $$\\ket{-}=  \\frac{1}{\\sqrt{2}}\\ket{0}-\\frac{1}{\\sqrt{2}}\\ket{1}=\\frac{1}{\\sqrt{2}}\\ket{0}+e^{i\\pi}\\frac{1}{\\sqrt{2}}\\ket{1},$$ which have equal amplitudes but differ by a **relative phase**, in this case $\\pi$.  \n",
        "\n",
        "In general the **relative phase** difference between two states\n",
        "$$\n",
        "\\ket{\\psi_1} = \\cos(\\frac{\\theta}{2})\\ket{0}+\\sin(\\frac{\\theta}{2})e^{i\\varphi_1}\\ket{1} $$\n",
        "and  \n",
        "$$\n",
        "\\ket{\\psi_2} = \\cos(\\frac{\\theta}{2})\\ket{0}+\\sin(\\frac{\\theta}{2})e^{i\\varphi_2}\\ket{1} $$\n",
        "is defined to as $\\varphi := |\\varphi_1-\\varphi_2|$\n",
        "\n",
        "**Question:** What is the relative phase difference between $\\ket{+}$ and $\\ket{i}$?\n",
        "\n"
      ]
    },
    {
      "cell_type": "markdown",
      "id": "04ea90fb",
      "metadata": {
        "id": "04ea90fb"
      },
      "source": [
        "### 2.1.2 Write a \"Hello, Entangled World!\" program"
      ]
    },
    {
      "cell_type": "markdown",
      "id": "5b1f325d",
      "metadata": {
        "id": "5b1f325d"
      },
      "source": [
        "So far, all of the quantum operations (e.g. `x`, `h`) that we programmed acted only on an individual qubit.  In this section, we'll write a program using multi-qubit gates.  Let's start with the example of the controlled-not gate, often abbreviated the `CNOT` gate. This is a gate that operates on 2 or more qubits. One of the qubits is considered the \"target\", and the remaining qubits are the \"control\".  For instance `CNOT([q0,q1],q2)` would represent a gate with control qubits in the list `[q0,q1]` and target qubit `q2`.  \n",
        "\n",
        "In a circuit diagram we depict the `CNOT` gate as a line connecting the control and target qubits with a $\\bigoplus$ located at the target qubit and a solid circle on control qubits. For instance, in the circuit diagram below, we see a `CNOT(q0, q1)` and a `CNOT([q1,q2],q0)` gate.\n",
        "\n",
        "<img src=\"https://raw.githubusercontent.com/NVIDIA/cuda-q-academic/refs/heads/main/images/cnots.png\" alt=\"quantum circuit diagram with various cnot gates\" width=\"200\"/>"
      ]
    },
    {
      "cell_type": "markdown",
      "id": "9b7514a0",
      "metadata": {
        "id": "9b7514a0"
      },
      "source": [
        "The rough idea is that if the \"control\" qubits are all in the state $\\ket{1}$ then an application of the `CNOT` gate will apply a bitflip (i.e. an `x` gate) to the target qubit.  If on the other hand, at least one of the \"control\" qubits is in the $\\ket{0}$ state the `CNOT` gate has no effect.\n",
        "\n",
        "To illustrate this, let's code up a few examples.\n",
        "\n",
        "> **Quick Tip:**\n",
        "The syntax for the CNOT gate is `x.ctrl(control_qubit, target_qubit)` if we have only one control qubit.  When we have multiple control qubits, we send them as a list to the `x.ctrl` function: `x.ctrl(control_qubits_list, target_qubit)`."
      ]
    },
    {
      "cell_type": "code",
      "execution_count": null,
      "id": "d57e1bd4",
      "metadata": {
        "id": "d57e1bd4",
        "outputId": "dd6615b4-196b-4e45-d5f8-46f6a6ee77d5"
      },
      "outputs": [
        {
          "name": "stdout",
          "output_type": "stream",
          "text": [
            "In this example CNOT is applied with the control qubit q0 and the target q1.\n",
            "CNOT applied to the state |00> results in |00>\n",
            "CNOT applied to the state |01> results in |01>\n",
            "CNOT applied to the state |10> results in |11>\n",
            "CNOT applied to the state |11> results in |10>\n"
          ]
        }
      ],
      "source": [
        "# CNOT applied to the states |00>, |01>, |10>, and |11>\n",
        "print('In this example CNOT is applied with the control qubit q0 and the target q1.')\n",
        "\n",
        "@cudaq.kernel\n",
        "def apply_cnot(control: cudaq.qubit, target: cudaq.qubit):\n",
        "    \"\"\"Apply an CNOT gate to the control and target qubits\"\"\"\n",
        "    x.ctrl(control, target)\n",
        "\n",
        "@cudaq.kernel\n",
        "def initialize(qubits: cudaq.qview, state: list[int]):\n",
        "    \"\"\"Kernel to initialize the state indicated by the given list of bits\"\"\"\n",
        "    for idx in range(len(state)):\n",
        "        if state[idx] == 1:\n",
        "            x(qubits[idx])\n",
        "\n",
        "@cudaq.kernel\n",
        "def CNOT_example(state: list[int]):\n",
        "    \"\"\"Apply CNOT to the state given by the bitstring\"\"\"\n",
        "    qubits =cudaq.qvector(len(state))\n",
        "    # Initialize state\n",
        "    initialize(qubits, state)\n",
        "    # Apply CNOT to the first two bits\n",
        "    if len(state) > 1:\n",
        "        apply_cnot(qubits[0], qubits[1])\n",
        "\n",
        "# Generate lists of bits to represent the states |00>, |01>, |10>, and |11>\n",
        "# Get the state vector of the CNOT_example kernel for each of the states and print the result\n",
        "\n",
        "for i in range(4):\n",
        "    bits = format(i,'b')\n",
        "    bit_list = [int(bit) for bit in bits.zfill(2)]\n",
        "    result = cudaq.sample(CNOT_example,bit_list).most_probable()\n",
        "    print('CNOT applied to the state |{}> results in |{}>'.format(bits.zfill(2),result))"
      ]
    },
    {
      "cell_type": "markdown",
      "id": "9526b6bf",
      "metadata": {
        "id": "9526b6bf"
      },
      "source": [
        "The examples in the code block above are deterministic. Let's look at two examples of what happens if one or more of the qubits is in a state of superposition.\n"
      ]
    },
    {
      "cell_type": "markdown",
      "id": "c21faa52",
      "metadata": {
        "id": "c21faa52"
      },
      "source": [
        "\n",
        "**Exercise 3 Part a:** Edit the code block below to see the effect of the gate sequence in the diagram below on the qubits if $q_0$ was initialized as $\\ket{+}$ and $q_1$ was initialized as $\\ket{1}$\n",
        "\n",
        "<img src=\"https://raw.githubusercontent.com/NVIDIA/cuda-q-academic/main/images/exercise3a.png\" alt=\"image of a circuit with 3 alternating cnots and q_0 initialized as |+> and q_1 initialized as |1>\" width=\"200\"/>"
      ]
    },
    {
      "cell_type": "code",
      "execution_count": null,
      "id": "2e30e9f6",
      "metadata": {
        "id": "2e30e9f6"
      },
      "outputs": [],
      "source": [
        "\n",
        "# EXERCISE 3 Part a\n",
        "@cudaq.kernel\n",
        "def alternating_cnots(qubit0: cudaq.qubit, qubit1: cudaq.qubit):\n",
        "    \"\"\"Apply a sequence of 3 CNOTs with alternating controls and targets on the 2 qubits given as arguments\"\"\"\n",
        "    # We will see later that it doesn't matter which qubit you start out with as the first control, as long as\n",
        "    # you alternate the control and target qubits with each of the 3 applications of the cnot gate\n",
        "\n",
        "    # Edit code below this line\n",
        "\n",
        "    # Edit code above this line\n",
        "\n",
        "\n",
        "@cudaq.kernel\n",
        "def three_alternating_cnots():\n",
        "    \"\"\"Kernel for the circuit drawn above\"\"\"\n",
        "\n",
        "    # Allocate qubits\n",
        "    q = cudaq.qvector(2)\n",
        "\n",
        "    # Initialize qubits q0 and q1 in the plus and one states, respectively\n",
        "    h(q[0])\n",
        "    x(q[1])\n",
        "\n",
        "    # Apply alternating CNOTs\n",
        "    alternating_cnots(q[0], q[1])\n",
        "\n",
        "\n",
        "\n",
        "results = cudaq.sample(three_alternating_cnots)\n",
        "print('The distribution of states after sampling is: {}'.format(results))\n"
      ]
    },
    {
      "cell_type": "markdown",
      "id": "29703a34",
      "metadata": {
        "id": "29703a34"
      },
      "source": [
        "Did you notice that the `alternating_cnots` kernel had the effect of swapping the states of $q_0$ and $q_1$?  This is a useful operation, so there is a dedicated notation for it.  We refer to this gate sequence as the `SWAP` gate, and abbreviate the gate sequence as a line with 2 Xs on the endpoints connecting the qubits:  \n",
        "\n",
        "\n",
        "<img src=\"https://raw.githubusercontent.com/NVIDIA/cuda-q-academic/main/images/SWAP.png\" alt=\"image of a circuit with a swap gate and one of three alternating cnots\" width=\"200\"/>\n",
        "\n",
        "The CUDA-Q command for a SWAP gate applied to qubits $q_0$ and $q_1$ is `swap(q_0, q_1)`. Let's use CUDA-Q to check that the `swap` gate has the same effect on two qubits as the `alternating_cnots` kernel."
      ]
    },
    {
      "cell_type": "code",
      "execution_count": null,
      "id": "9d769de2",
      "metadata": {
        "id": "9d769de2",
        "outputId": "0add9367-747d-4df1-8206-9b4ea4efd6f7"
      },
      "outputs": [
        {
          "name": "stdout",
          "output_type": "stream",
          "text": [
            "The distribution of states after sampling is: { 11:517 10:483 }\n",
            "\n"
          ]
        }
      ],
      "source": [
        "# Verify that the SWAP and alternating_cnots have the same effect on the state |+1>\n",
        "\n",
        "@cudaq.kernel\n",
        "def applying_swap():\n",
        "    \"\"\"Kernel for the circuit drawn above\"\"\"\n",
        "\n",
        "    # Allocate qubits\n",
        "    q = cudaq.qvector(2)\n",
        "\n",
        "    # Initialize qubits q0 and q1 in the plus and one states, respectively\n",
        "    h(q[0])\n",
        "    x(q[1])\n",
        "\n",
        "    # Apply alternating CNOTs\n",
        "    swap(q[0], q[1])\n",
        "\n",
        "results = cudaq.sample(three_alternating_cnots)\n",
        "print('The distribution of states after sampling is: {}'.format(results))"
      ]
    },
    {
      "cell_type": "markdown",
      "id": "4ba73892",
      "metadata": {
        "id": "4ba73892"
      },
      "source": [
        "Now, let's explore another example that will showcase one of the powerful computations achievable with quantum gates.\n",
        "\n",
        "**Exercise 3 Part b:** Edit the ##FIX_ME## phrase in the code block below to apply the `x.ctrl` gate to the state $\\ket{+0}$."
      ]
    },
    {
      "cell_type": "markdown",
      "id": "8BpmdM751-vR",
      "metadata": {
        "id": "8BpmdM751-vR"
      },
      "source": []
    },
    {
      "cell_type": "code",
      "execution_count": null,
      "id": "9e97a7c5",
      "metadata": {
        "id": "9e97a7c5"
      },
      "outputs": [],
      "source": [
        "# EXERCISE 3 Part b\n",
        "\n",
        "@cudaq.kernel\n",
        "def apply_cnot(control: cudaq.qubit, target: cudaq.qubit):\n",
        "    \"\"\"Apply an CNOT gate to the control and target qubits\"\"\"\n",
        "    x.ctrl(control, target)\n",
        "\n",
        "@cudaq.kernel\n",
        "def initialize_plus_zero(qubits: cudaq.qview):\n",
        "    \"\"\"Kernel to initialize the state indicated by the given list of bits\"\"\"\n",
        "    # Place qubits[0] in the plus state\n",
        "    ##FIX_ME##\n",
        "\n",
        "@cudaq.kernel\n",
        "def CNOT_exercise():\n",
        "    \"\"\"Apply CNOT to |+0> with control q0 and target q1\"\"\"\n",
        "    qubits =cudaq.qvector(2)\n",
        "    # Initialize state\n",
        "    initialize_plus_zero(qubits)\n",
        "    # Apply CNOT to the first two bits\n",
        "    apply_cnot(qubits[0], qubits[1])\n",
        "\n",
        "results = cudaq.sample(CNOT_exercise)\n",
        "print('CNOT applied to the state |+0> results in the distribution of states: {}'.format(results))\n"
      ]
    },
    {
      "cell_type": "markdown",
      "id": "TcYeYSfS2AYL",
      "metadata": {
        "id": "TcYeYSfS2AYL"
      },
      "source": []
    },
    {
      "cell_type": "markdown",
      "id": "aae902e7",
      "metadata": {
        "id": "aae902e7"
      },
      "source": [
        "To understand the output of the exercise above, let's use the ket notation.  First we should point out that one characteristic of quantum gates that we've not mentioned explicitly is linearity.  For example, if we have a gate $U$ applied to the state $\\ket{\\psi}=\\alpha\\ket{0}+\\beta\\ket{1}$, we can understand the action of $U$ on $\\ket{\\psi}$ by knowing how $U$ affects $\\ket{0}$ and $\\ket{1}$.  In particular, we can distribute $U$ across the terms of $\\ket{\\psi}$:\n",
        "$$ U\\ket{\\psi} = U(\\alpha\\ket{0}+\\beta\\ket{1}) =  U(\\alpha\\ket{0}) +  U(\\beta\\ket{1})=\\alpha U\\ket{0} + \\beta U\\ket{1}.$$\n",
        "This generalizes beyond one-qubit gates to multi-qubit gates.\n",
        "\n",
        "Therefore, when we apply the `CNOT` to $\\ket{+0} = \\frac{1}{\\sqrt{2}}\\ket{00}+ \\frac{1}{\\sqrt{2}}\\ket{10}$ we get\n",
        "\n",
        "$$CNOT\\ket{+0} = CNOT(\\frac{1}{\\sqrt{2}}\\ket{00}+ \\frac{1}{\\sqrt{2}}\\ket{10})=\\frac{1}{\\sqrt{2}}CNOT\\ket{00} + \\frac{1}{\\sqrt{2}}CNOT\\ket{10} = \\frac{1}{\\sqrt{2}}\\ket{00} +  \\frac{1}{\\sqrt{2}}\\ket{11}.$$"
      ]
    },
    {
      "cell_type": "markdown",
      "id": "b07b387e",
      "metadata": {
        "id": "b07b387e"
      },
      "source": [
        "### 2.1.3 Multi-qubit gates as matrices\n",
        "\n",
        "To understand why gate operations are linear, it helps to represent a multi-qubit gate as a matrix, just as we have done in Lab 1 for single qubit gates.\n",
        "For example the matrix for the CNOT gate using the convention of CUDA-Q ordering is:\n",
        "$$CNOT = \\begin{pmatrix} 1 & 0 & 0 & 0 \\\\ 0 & 0 & 0 & 1 \\\\ 0 & 0 & 1 & 0 \\\\ 0 & 1 & 0 & 0 \\end{pmatrix}.\n",
        "$$\n",
        "\n",
        "Using the fact that  $\\ket{+0} = \\frac{1}{\\sqrt{2}}\\ket{00}+ \\frac{1}{\\sqrt{2}}\\ket{10}$, we can verify our work from the previous section:\n",
        "\n",
        "$$ CNOT\\ket{+0} = \\begin{pmatrix} 1 & 0 & 0 & 0 \\\\ 0 & 0 & 0 & 1 \\\\ 0 & 0 & 1 & 0 \\\\ 0 & 1 & 0 & 0 \\end{pmatrix}(\\frac{1}{\\sqrt{2}}\\ket{00}+ \\frac{1}{\\sqrt{2}}\\ket{10})\n",
        "= \\begin{pmatrix} 1 & 0 & 0 & 0 \\\\ 0 & 0 & 0 & 1 \\\\ 0 & 0 & 1 & 0 \\\\ 0 & 1 & 0 & 0 \\end{pmatrix}\n",
        "\\begin{pmatrix} \\frac{1}{\\sqrt{2}}  \\\\ \\frac{1}{\\sqrt{2}} \\\\ 0\\\\ 0\\end{pmatrix} =\n",
        "\\begin{pmatrix} \\frac{1}{\\sqrt{2}} \\\\ 0 \\\\ 0\\\\ \\frac{1}{\\sqrt{2}} \\end{pmatrix} =\n",
        " \\frac{1}{\\sqrt{2}}\\ket{00} +  \\frac{1}{\\sqrt{2}}\\ket{11}\n",
        "$$\n",
        "\n",
        "The state $\\frac{1}{\\sqrt{2}}\\ket{00} +  \\frac{1}{\\sqrt{2}}\\ket{11}$ is an example of entanglement.  Along with superposition, this property helps to distinguish quantum algorithms from classical.  Let's take a look at this property next.\n",
        "\n",
        "> **FAQ:** If quantum states can be represented as vectors, and quantum gates can be realized through matrix operations, then why do we need quantum computers if we can theoretically simulate any quantum circuit through matrix multiplication classically?\n",
        "\n",
        "> **Answer:**  One thing to note is that as the number of qubits increases, the number of possible states increases exponentially and the size of the matrix representing the multi-qubit gate also increases exponentially.  For instance, a 3-qubit system (like the Exercise 4 in the next section) can be in one of $2^3 = 8$ states, and the size of the matrix representing a 3-qubit gate is $8\\times 8$.  This suggests that straightforward attempts at using matrix multiplication to simulate quantum computation on CPUs fail for circuits with only 30 or so qubits.  With CUDA-Q's platform and GPU-accelerated built-in simulators, it is possible to simulate larger systems. That said, there may one day be a fault tolerant quantum computer that can carry out computations too big for even the largest classical supercomputers.\n",
        "\n",
        "\n"
      ]
    },
    {
      "cell_type": "markdown",
      "id": "51cf91f7",
      "metadata": {
        "id": "51cf91f7"
      },
      "source": [
        "### 2.1.4 Entanglement\n",
        "\n",
        "Entanglement of two (or more) qubits is akin to the concept of dependence in linear algebra.  That is to say that two qubits are entangled if the state of one of the qubits depends on the other.  Formally the definition of entanglement relies on tensor products, which are beyond the scope of this Quick Start series of notebooks.  You can read more about tensor products and the precise definition of entanglement [here](http://mermin.lassp.cornell.edu/qcomp/CS483.html) or [here](https://qubit.guide).  For now, we'll illustrate entanglement through the example of the 2-qubit state\n",
        "$$ \\ket{\\psi} =\\frac{1}{\\sqrt{2}}\\ket{00} +  \\frac{1}{\\sqrt{2}}\\ket{11}.$$\n",
        "\n",
        "The state $\\ket{\\psi}$ has equal probability of being measured in the state $\\ket{00}$ or $\\ket{11}$.  Let's look at what happens if we measure the first qubit.\n",
        "\n",
        "* If our system of two qubits is in the state $\\ket{\\psi}$ and we measure qubit 0 to be $0$, then the state of the system collapses to $\\ket{00}$.  In this case, without taking a measurement on qubit 1, we already know its state (it's $\\ket{0}$).  \n",
        "\n",
        "<img src=\"https://raw.githubusercontent.com/NVIDIA/cuda-q-academic/main/images/bell0.png\" alt=\"image of a circuit for the Bell State with the first qubit measured to be a 0\" width=\"200\"/>\n",
        "\n",
        "* Similarly if the state of our system is $\\ket{\\psi}$ and qubit 0 is measured to be 1, then  the state of the system collapses to $\\ket{11}$.  Although prior to any measurement on qubit 0, qubit 1 had a $50\\%$ probability of being in state $\\ket{0}$ or $\\ket{1}$, after measuring qubit 0 to be 1, we know that qubit 1 must be in the state $\\ket{1}$.\n",
        "\n",
        "<img src=\"https://raw.githubusercontent.com/NVIDIA/cuda-q-academic/main/images/bell1.png\" alt=\"image of a circuit for the Bell State with the first qubit measured to be a 1\" width=\"200\"/>\n",
        "\n",
        "\n",
        "So we see that even though prior to measurement, both qubits 0 and 1 have equal probabilities of being measured a 0 or 1, once we measure one of these qubits, the outcome of the other qubit has been determined and depends on the state of the qubit that was measured.  In other words,  qubit 0 and qubit 1 are **entangled**.\n",
        "\n"
      ]
    },
    {
      "cell_type": "markdown",
      "id": "7f0ba698",
      "metadata": {
        "id": "7f0ba698"
      },
      "source": [
        "![](images/nvidia-logo.png)"
      ]
    },
    {
      "cell_type": "markdown",
      "id": "f51d5b63",
      "metadata": {
        "id": "f51d5b63"
      },
      "source": [
        "**EXERCISE 4:**\n",
        "Edit the code block below to create a quantum program with 3 qubits to:\n",
        "* Initialize the state  $\\ket{\\psi} = \\ket{+-+} = \\frac{1}{\\sqrt{8}}(\\ket{000}+\\ket{100}-\\ket{010}-\\ket{110}+\\ket{101}+\\ket{001}-\\ket{011}-\\ket{111})$ by editing the ##FIX_ME##\n",
        "* Apply a `x.ctrl` gate with control qubit $q_0$ and target $q_1$.  Then apply a Hadamard gate to $q_1$.\n",
        "* Sample the result\n"
      ]
    },
    {
      "cell_type": "code",
      "execution_count": null,
      "id": "84679555",
      "metadata": {
        "id": "84679555"
      },
      "outputs": [],
      "source": [
        "# EXERCISE 4\n",
        "num_qubits = 3\n",
        "\n",
        "@cudaq.kernel\n",
        "def initial_state(qubits : ##FIX_ME##):\n",
        "    for index in range(len(qubits)):\n",
        "        if index % 2 !=0:\n",
        "            x(qubits[index])\n",
        "    h(qubits)\n",
        "\n",
        "@cudaq.kernel\n",
        "def interference(qubit_count: int):\n",
        "    qvector = cudaq.qvector(qubit_count)\n",
        "\n",
        "    initial_state(qvector) # Initialize the state\n",
        "\n",
        "    # Apply x.ctrl with control q_0 and target q_1. Then apply a Hadamard gate to q_1.\n",
        "    # Edit the code below this line\n",
        "\n",
        "\n",
        "    # Edit the code above this line\n",
        "\n",
        "results = cudaq.sample(interference, num_qubits, shots_count = 1000)\n",
        "print(results)"
      ]
    },
    {
      "cell_type": "markdown",
      "id": "0193825a",
      "metadata": {
        "id": "0193825a"
      },
      "source": [
        "**Question**: What do you notice about the probability amplitudes in Exercise 4?  Pay specific attention to the probability amplitude for\n",
        "$\\ket{110}$, $\\ket{011}$, $\\ket{111}$, and $\\ket{010}$ compared to those of of the other basis states."
      ]
    },
    {
      "cell_type": "markdown",
      "id": "6af24a5e",
      "metadata": {
        "id": "6af24a5e"
      },
      "source": [
        "The changing of the probability amplitudes in this exercise is an example of interference, which we'll discuss next."
      ]
    },
    {
      "cell_type": "markdown",
      "id": "82f3576d",
      "metadata": {
        "id": "82f3576d"
      },
      "source": [
        "### 2.1.5 Interference\n",
        "\n",
        "In a quantum program, we apply gates to change quantum state from one state to another.  In effect, what we're doing is changing the probability amplitudes associated with each of the basis states.  This process is called **interference**.  Interference is central in almost every quantum algorithm.\n",
        "\n",
        "We can have both constructive and destructive interference.  Like the classical interference of waves from raindrops on the surface of a puddle, constructive interference occurs when the probability amplitude of basis state is increased, and destructive interference occurs when the probability of a basis state decreases due to the action of quantum gates.  The previous example demonstrates both constructive and deconstructive interference. The circuit is initialized in a state having equal magnitude probability amplitudes, but after applying the CNOT gate and Hadamard gate, the probabilities of measuring $\\ket{110}$, $\\ket{011}$, $\\ket{111}$, and $\\ket{010}$ have each been amplified, while the probabiliy amplitudes associated with the other basis states have been reduced to $0$.\n",
        "\n"
      ]
    },
    {
      "cell_type": "markdown",
      "id": "7e50c823",
      "metadata": {
        "id": "7e50c823"
      },
      "source": [
        "## 2.3 Other multi-qubit gates"
      ]
    },
    {
      "cell_type": "markdown",
      "id": "cd971a71",
      "metadata": {
        "id": "cd971a71"
      },
      "source": [
        "There are many more quantum gates than the handful that we've explicitly used so far.  In the previous lab, we mentioned that any rotation of the Bloch sphere corresponds to a quantum gate on one qubit. So in theory, there are an infinite number of possible quantum gates: one for each of the possible rotations of the sphere.  In this section, we'll first detail what these rotations gates look like both as matrices and as CUDA-Q operations. Then  we'll use these rotations gates to define a larger class of multi-qubit controlled gates.\n",
        "\n",
        "\n",
        "### 2.3.2 Revisiting single-qubit rotation gates\n",
        "\n",
        "We've already seen the `x`-gate that rotates a state around the x-axis of the Bloch sphere by 180 degrees and the Hadamard gate which rotates the Bloch sphere 180 degrees about a different axis causing $\\ket{0}$ to move to $\\ket{+}$ and $\\ket{1}$ to rotate to $\\ket{-}$, and vice versa.  But how do we implement gates for other angles of rotation, or different axis of rotation?  One easy answer is to use some of the gate operations built into CUDA-Q.  These include the `y`-gate for 180 degree rotation about the $y$-axis and the `z`-gate for 180 degree rotation about the $z$ axis.  The `t` and `s` gates correspond to other fixed angle rotations about the $z$ axis.  \n",
        "\n",
        "**EXERCISE 5:** Experiment with applying the `t` and `s` gates to various states in the code block below to deduce the rotation angle for the `t` and `s` gates and to predict the relationship between the `t` and `s` gates."
      ]
    },
    {
      "cell_type": "code",
      "execution_count": null,
      "id": "1650757b",
      "metadata": {
        "id": "1650757b"
      },
      "outputs": [],
      "source": [
        "# EXERCISE 5\n",
        "\n",
        "@cudaq.kernel\n",
        "def initialize_state(qubit : cudaq.qubit):\n",
        "    # Edit the code below to initialize the qubit in a state that you can use to distinguish\n",
        "    # the t and s gates.\n",
        "    # Hint: t and s gates both perform a rotation about the z axis.\n",
        "\n",
        "    # Edit the code above\n",
        "\n",
        "\n",
        "@cudaq.kernel\n",
        "def compare_t_s(t_or_s : int):\n",
        "    qubit = cudaq.qubit()\n",
        "\n",
        "    initialize_state(qubit)\n",
        "\n",
        "    if t_or_s == 0:\n",
        "        t(qubit)\n",
        "    else:\n",
        "        s(qubit)\n",
        "\n",
        "# Define a sphere object representing the state of the single initialized qubit after an application of t or s\n",
        "t_or_s = 1 #Set the variable = 0 to apply t; set it equal to 1 to apply\n",
        "assert (t_or_s == 0 or t_or_s == 1)\n",
        "sphere = cudaq.add_to_bloch_sphere(cudaq.get_state(compare_t_s, t_or_s))\n",
        "\n",
        "# Display the Bloch sphere\n",
        "cudaq.show(sphere)\n"
      ]
    },
    {
      "cell_type": "markdown",
      "id": "fb963ed1",
      "metadata": {
        "id": "fb963ed1"
      },
      "source": [
        "To access arbitrary angle rotations about the $x$, $y$, and $z$ axis of the Bloch sphere, we can use the `rx`, `ry`, and `rz` commands.\n",
        "\n",
        "In the code block, we plot the effect of rx on the state $\\ket{0}$ for a variety of angles.  You can see that when the angle is $\\pi$, the rotation gate `rx` is equivalent to the `x` gate.  Feel free to edit the code bloch to apply the `ry` or `rz` gates to various angles on different intial states.  "
      ]
    },
    {
      "cell_type": "code",
      "execution_count": null,
      "id": "3829e094",
      "metadata": {
        "id": "3829e094",
        "outputId": "436399df-a415-460f-d514-9744b57fedcb"
      },
      "outputs": [
        {
          "data": {
            "image/png": "[encoded data removed]",
            "text/plain": [
              "<Figure size 500x500 with 1 Axes>"
            ]
          },
          "metadata": {},
          "output_type": "display_data"
        }
      ],
      "source": [
        "import qutip\n",
        "# set the number of angles to plot\n",
        "num_angles = 15\n",
        "\n",
        "@cudaq.kernel\n",
        "def rotate_x(angle : float):\n",
        "    qubit = cudaq.qubit()\n",
        "\n",
        "    # Apply the unitary transformation\n",
        "    # Rx(θ) = |  cos(θ/2)  -isin(θ/2) |\n",
        "    #         | -isin(θ/2)  cos(θ/2)  |\n",
        "    rx(angle, qubit)\n",
        "\n",
        "\n",
        "blochSphere = qutip.Bloch()\n",
        "for n in range(num_angles+1):\n",
        "    theta = np.pi*n/num_angles\n",
        "    sphere = cudaq.add_to_bloch_sphere(cudaq.get_state(rotate_x, theta), blochSphere)\n",
        "\n",
        "# Display the Bloch spheres side by side in 2 rows and 2 columns\n",
        "cudaq.show(blochSphere)\n",
        "\n",
        "\n"
      ]
    },
    {
      "cell_type": "markdown",
      "id": "5cb08844",
      "metadata": {
        "id": "5cb08844"
      },
      "source": [
        "### 2.3.3 Controlled gates\n",
        "\n",
        "Earlier we examined the CNOT gate (`x.ctrl`) which is a controlled-x gate.  That is, the `x` gate is applied conditional on the state of one or more of the control qubits.  Similarly, we can create controlled gates for any of our single qubit gates using the `.ctrl` suffix.  For instance `t.ctrl` will apply a `t` gate conditional on the the state of the control qubit.\n",
        "\n"
      ]
    },
    {
      "cell_type": "markdown",
      "id": "1650e028",
      "metadata": {
        "id": "1650e028"
      },
      "source": [
        "With just a few of these gates, we can carry out some interesting computations.  Let's check out one step of Shor's algorithm in the next section."
      ]
    },
    {
      "cell_type": "markdown",
      "id": "106c65ea",
      "metadata": {
        "id": "106c65ea"
      },
      "source": [
        "## 2.4 Application: modular arithmetic\n",
        "\n",
        "\n",
        "Shor's algorithm is a well-known example that has the potential to break RSA encryption, assuming it could be executed on a fault-tolerant quantum computer at a sufficiently large scale. While we won’t be implementing the full algorithm here (you can explore more details [here starting on page 341](https://www.thomaswong.net/introduction-to-classical-and-quantum-computing-1e4p.pdf), [Chapter 4 of these lecture notes](https://arxiv.org/pdf/2311.08445)  or [chapter 3 of Mermin's book here](http://mermin.lassp.cornell.edu/qcomp/CS483.html)), we will focus on one step of the algorithm: performing modular arithmetic. This will serve as a demonstration of the concepts we've covered so far and offer an opportunity to encode classical information (in this case, an integer) onto qubits.\n",
        "The circuit shown below, inspired by this article, performs the operation of multiplying $5y$ modulo $21$, with the initial state representing various values of $y = 1, 4, 5, 16, 17, 20$.\n",
        "<img src=\"https://raw.githubusercontent.com/NVIDIA/cuda-q-academic/main/images/modular_circuit.png\" alt=\"circuit for computing 5y mod 21 for certain values of y\" width=\"200\"/>\n",
        "\n",
        " For instance, if we want to calculate $5 \\times 1 \\mod 21$, we would encode $y = 1$ by preparing the quantum state $\\ket{10000}$ through the application of an $X$ gate to qubit $q_0$:\n",
        "\n",
        "<img src=\"https://raw.githubusercontent.com/NVIDIA/cuda-q-academic/main/images/modular_circuit_y_equals_1.png\" alt=\"circuit for computing 5y mod 21 for certain values of y\" width=\"200\"/>\n",
        "\n"
      ]
    },
    {
      "cell_type": "markdown",
      "id": "8Ui0sMTc2XmL",
      "metadata": {
        "id": "8Ui0sMTc2XmL"
      },
      "source": []
    },
    {
      "cell_type": "markdown",
      "id": "0476beda",
      "metadata": {
        "id": "0476beda"
      },
      "source": [
        "**EXERCISE 6:** Edit the code below to carry out the instructions of the circuit diagram above to verify that the outcome of the circuit is as expected.  For example, when the circuit is initialized as $y = 20$, we should expect to sample the binary representation of 16 (which is `00001`) since $5*20 = 100 \\equiv 16\\mod{21}$."
      ]
    },
    {
      "cell_type": "code",
      "execution_count": null,
      "id": "10aa4dff",
      "metadata": {
        "id": "10aa4dff",
        "outputId": "30bc5927-2ecd-41a9-8969-9c45ac8b246a"
      },
      "outputs": [
        {
          "name": "stdout",
          "output_type": "stream",
          "text": [
            "Multiplying 17 by 5 mod 21 results in the bitstring 10000\n"
          ]
        }
      ],
      "source": [
        "# EXERCISE 6\n",
        "\n",
        "import random\n",
        "\n",
        "@cudaq.kernel\n",
        "def modular_mult_5_21(qubits : cudaq.qvector):\n",
        "    \"\"\"\"Kernel based off of the circuit diagram in\n",
        "    https://physlab.org/wp-content/uploads/2023/05/Shor_s_Algorithm_23100113_Fin.pdf\n",
        "    Modifications were made to change the ordering of the qubits.\n",
        "    \"\"\"\n",
        "    # Edit code below this line\n",
        "\n",
        "\n",
        "    # Edit code above this line\n",
        "\n",
        "@cudaq.kernel\n",
        "def encode_integer(qubits: cudaq.qvector, binary_rep: list[int]):\n",
        "    \"\"\"Kernel takes as input a list of qubits and the binary representation\n",
        "    of an integer as a list. The kernel adds X-gates to the qubits to encode\n",
        "    the binary list, placing an X gate on qubit i if there is a 1 in the ith location\n",
        "    on the binary_rep list\"\"\"\n",
        "    # Edit code below this line\n",
        "\n",
        "\n",
        "    # Edit code above this line\n",
        "\n",
        "\n",
        "def decimal_to_binary_list(number):\n",
        "    # Check if the input number is valid (non-negative integer)\n",
        "    if number < 0:\n",
        "        raise ValueError(\"Number must be a non-negative integer.\")\n",
        "\n",
        "    # Convert the number to binary using bin() function and strip the '0b' prefix\n",
        "    binary_string = bin(number)[2:]\n",
        "\n",
        "    # Convert the binary string to a list of integers (0s and 1s)\n",
        "    binary_list = [int(bit) for bit in binary_string]\n",
        "\n",
        "    return binary_list\n",
        "\n",
        "@cudaq.kernel\n",
        "def mult_y_by_5_mod21(binary_list: list[int]):\n",
        "\n",
        "    # Allocate qubits\n",
        "    qubits = cudaq.qvector(5)\n",
        "\n",
        "    # Initialize qubits in the state representing 1, 4, 5, 16, 17, or 20\n",
        "    encode_integer(qubits, binary_list)\n",
        "    # Apply the multiplication by 5 mod 21 kernel\n",
        "    modular_mult_5_21(qubits)\n",
        "\n",
        "values = [1,4,5,16, 17, 20]\n",
        "number = random.choice(values) # selects a number from the list values randomly\n",
        "# Convert number into a binary representation stored as a list of 0s and 1s\n",
        "binary_list = decimal_to_binary_list(number)\n",
        "\n",
        "results = cudaq.sample(mult_y_by_5_mod21, binary_list, shots_count = 200)\n",
        "print(\"Multiplying {} by 5 mod 21 results in the bitstring {}\".format(number,results.most_probable()))\n"
      ]
    },
    {
      "cell_type": "code",
      "execution_count": null,
      "id": "86350aa0",
      "metadata": {
        "id": "86350aa0"
      },
      "outputs": [],
      "source": [
        "# EXERCISE 6 SOLUTION\n",
        "import random\n",
        "\n",
        "@cudaq.kernel\n",
        "def modular_mult_5_21(qubits : cudaq.qvector):\n",
        "    \"\"\"\"Kernel based off of the circuit diagram in\n",
        "    https://physlab.org/wp-content/uploads/2023/05/Shor_s_Algorithm_23100113_Fin.pdf\n",
        "    Modifications were made to change the ordering of the qubits.\n",
        "    \"\"\"\n",
        "\n",
        "    x(qubits[0])\n",
        "    x(qubits[2])\n",
        "    x(qubits[4])\n",
        "\n",
        "    swap(qubits[0], qubits[4])\n",
        "    swap(qubits[0], qubits[2])\n",
        "\n",
        "@cudaq.kernel\n",
        "def encode_integer(qubits: cudaq.qvector, binary_rep: list[int]):\n",
        "    \"\"\"Kernel takes as input a list of qubits and the binary representation\n",
        "    of an integer as a list. The kernel adds X-gates to the qubits to encode\n",
        "    the binary list, placing an X gate on qubit i if there is a 1 in the ith location\n",
        "    on the binary_rep list\"\"\"\n",
        "    # Edit code below this line\n",
        "    for i in range(len(binary_rep)):\n",
        "        if binary_rep[i] == 1:\n",
        "            x(qubits[i])\n",
        "    # Edit code above this line\n",
        "\n",
        "\n",
        "def decimal_to_binary_list(number):\n",
        "    # Check if the input number is valid (non-negative integer)\n",
        "    if number < 0:\n",
        "        raise ValueError(\"Number must be a non-negative integer.\")\n",
        "\n",
        "    # Convert the number to binary using bin() function and strip the '0b' prefix\n",
        "    binary_string = bin(number)[2:]\n",
        "\n",
        "    # Convert the binary string to a list of integers (0s and 1s)\n",
        "    binary_list = [int(bit) for bit in binary_string]\n",
        "\n",
        "    return binary_list\n",
        "\n",
        "@cudaq.kernel\n",
        "def mult_y_by_5_mod21(binary_list: list[int]):\n",
        "\n",
        "    # Allocate qubits\n",
        "    qubits = cudaq.qvector(5)\n",
        "\n",
        "    # Initialize qubits in the state representing 1, 4, 5, 16, 17, or 20\n",
        "    encode_integer(qubits, binary_list)\n",
        "    # Apply the multiplication by 5 mod 21 kernel\n",
        "    modular_mult_5_21(qubits)\n",
        "\n",
        "values = [1,4,5,16, 17, 20]\n",
        "number = random.choice(values) # selects a number from the list values randomly\n",
        "# Convert number into a binary representation stored as a list of 0s and 1s\n",
        "binary_list = decimal_to_binary_list(number)\n",
        "\n",
        "results = cudaq.sample(mult_y_by_5_mod21, binary_list, shots_count = 200)\n",
        "print(\"Multiplying {} by 5 mod 21 results in the bitstring {}\".format(number,results.most_probable()))"
      ]
    },
    {
      "cell_type": "markdown",
      "id": "f16d5a19",
      "metadata": {
        "id": "f16d5a19"
      },
      "source": [
        "**Exercise 7:** Create a kernel that carries out modular exponentiation 5^x mod 21 using the `mult_y_by_5_mod21` of the previous exercise. Hint: $5^6 \\mod(21) = 1$.  \n"
      ]
    },
    {
      "cell_type": "code",
      "execution_count": null,
      "id": "9f5f867b",
      "metadata": {
        "id": "9f5f867b"
      },
      "outputs": [],
      "source": [
        "# EXERCISE 7\n",
        "\n",
        "@cudaq.kernel\n",
        "def modular_exp_kernel(exponent: int):\n",
        "    \"\"\"Kernel computes 5^x mod 21\n",
        "    Parameters:\n",
        "    -----------\n",
        "    exponent : int\n",
        "        the value x for the computation 5^x mod 21\n",
        "\n",
        "    Returns:\n",
        "    --------\n",
        "    binary_rep : string\n",
        "        binary representation for 5^x mod 21 as a string of 0s and 1s\n",
        "    \"\"\"\n",
        "    # Allocate and intialize qubits\n",
        "    qubits = cudaq.qvector(5)\n",
        "\n",
        "    # Edit code below this line\n",
        "\n",
        "    # Encode y = 1\n",
        "\n",
        "\n",
        "    # Multiply y = 1 by 5 exp times\n",
        "\n",
        "\n",
        "    # Edit code above this line\n",
        "\n",
        "\n",
        "def modular_exp(exponent: int):\n",
        "    sample_result = cudaq.sample(modular_exp_kernel, exponent, shots_count = 100).most_probable()\n",
        "    return sample_result\n",
        "\n",
        "for x in range(0,7):\n",
        "    result = modular_exp(x)\n",
        "\n",
        "    print(\"5^{} mod 21 in binary representation is {}\".format(x, result))"
      ]
    },
    {
      "cell_type": "code",
      "execution_count": null,
      "id": "404a6a25",
      "metadata": {
        "id": "404a6a25",
        "outputId": "ee602004-42d2-410a-f78e-621aab699d84"
      },
      "outputs": [
        {
          "name": "stdout",
          "output_type": "stream",
          "text": [
            "5^0 mod 21 in binary representation is 10000\n",
            "5^1 mod 21 in binary representation is 10100\n",
            "5^2 mod 21 in binary representation is 00100\n",
            "5^3 mod 21 in binary representation is 00101\n",
            "5^4 mod 21 in binary representation is 00001\n",
            "5^5 mod 21 in binary representation is 10001\n",
            "5^6 mod 21 in binary representation is 10000\n"
          ]
        }
      ],
      "source": [
        "# EXERCISE 7 SOLUTION\n",
        "\n",
        "@cudaq.kernel\n",
        "def modular_exp_kernel(exponent: int):\n",
        "    \"\"\"Kernel computes 5^x mod 21\n",
        "    Parameters:\n",
        "    -----------\n",
        "    exponent : int\n",
        "        the value x for the computation 5^x mod 21\n",
        "\n",
        "    Returns:\n",
        "    --------\n",
        "    binary_rep : string\n",
        "        binary representation for 5^x mod 21 as a string of 0s and 1s\n",
        "    \"\"\"\n",
        "    # Allocate and intialize qubits\n",
        "    qubits = cudaq.qvector(5)\n",
        "\n",
        "    # Edit code below this line\n",
        "\n",
        "    # Encode y = 1\n",
        "    x(qubits[0])\n",
        "\n",
        "    # Multiply y = 1 by 5 exp times\n",
        "\n",
        "    for n in range(0,exponent):\n",
        "        modular_mult_5_21(qubits)\n",
        "\n",
        "    # Edit code above this line\n",
        "\n",
        "\n",
        "def modular_exp(exponent: int):\n",
        "    sample_result = cudaq.sample(modular_exp_kernel, exponent, shots_count = 100).most_probable()\n",
        "    return sample_result\n",
        "\n",
        "for x in range(0,7):\n",
        "    result = modular_exp(x)\n",
        "\n",
        "    print(\"5^{} mod 21 in binary representation is {}\".format(x, result))"
      ]
    },
    {
      "cell_type": "markdown",
      "id": "6b6c9d4a",
      "metadata": {
        "id": "6b6c9d4a"
      },
      "source": [
        "## 2.5 Next\n",
        "\n",
        "While [Shor's algorithm for factoring numbers](https://nvidia.github.io/cuda-quantum/latest/applications/python/shors.html) is one of the most famous quantum computing algorithms, it is not considered a (Near-term Intermediate Scale Quantum) NISQ-era program since it requires more qubits, with less noise, than currently available.  There are, however, several NISQ-era programs that can be run on current quantum hardware and simulated with GPUs.  Many of these programs are based on variational algorithms, which we'll explore in the next lab."
      ]
    }
  ],
  "metadata": {
    "colab": {
      "provenance": []
    },
    "kernelspec": {
      "display_name": "Python 3",
      "language": "python",
      "name": "python3"
    },
    "language_info": {
      "codemirror_mode": {
        "name": "ipython",
        "version": 3
      },
      "file_extension": ".py",
      "mimetype": "text/x-python",
      "name": "python",
      "nbconvert_exporter": "python",
      "pygments_lexer": "ipython3",
      "version": "3.10.12"
    }
  },
  "nbformat": 4,
  "nbformat_minor": 5
}
