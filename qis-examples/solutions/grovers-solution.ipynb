{
 "cells": [
  {
   "cell_type": "markdown",
   "id": "5bb7f5f9",
   "metadata": {},
   "source": [
    "**Solution.** \n",
    "\n",
    "$$\n",
    "f(000) = f(110) = 1, \\quad f(x) = 0 \\text{ otherwise}.\n",
    "$$\n",
    "\n",
    "Applying Grover's algorithm, we note that the total number of states is $N = 2^3 = 8$ and the number of solutions is $t = 2$. The superposition of solutions is given by \n",
    "$$\n",
    "|G\\rangle = \\frac{1}{\\sqrt{2}}(|000\\rangle + |110\\rangle),\n",
    "$$\n",
    "while the equal superposition of the remaining states is \n",
    "$$\n",
    "|B\\rangle = \\frac{1}{\\sqrt{8-2}}(|001\\rangle + |010\\rangle + |100\\rangle + |011\\rangle + |101\\rangle + |111\\rangle).\n",
    "$$\n",
    "\n",
    "As we have $N = 2^3 = 8$, the angle $\\theta$ satisfies:\n",
    "$$\n",
    "\\theta = \\arcsin\\left(\\sqrt{\\frac{t}{N}}\\right) = \\arcsin\\left(\\sqrt{\\frac{2}{8}}\\right) = \\arcsin\\left(\\frac{1}{2}\\right) = \\frac{\\pi}{6}.\n",
    "$$\n",
    "We solve for $m$:\n",
    "$$\n",
    "(2m+1)\\theta = \\frac{\\pi}{2} \\quad \\Rightarrow \\quad (2m+1)\\frac{\\pi}{6} = \\frac{\\pi}{2} \\quad \\Rightarrow \\quad 2m+1 = 3 \\quad \\Rightarrow \\quad m = 1.\n",
    "$$\n",
    "Thus, a single iteration of the Grover diffusion operator maps $|\\xi\\rangle$ exactly to $|G\\rangle$, ensuring that the subsequent measurement yields a valid solution with $100\\%$ probability!  \n",
    "\n",
    "Try writing the code for this.  In particular, you will need to create new code for the phase oracle."
   ]
  }
 ],
 "metadata": {
  "language_info": {
   "name": "python"
  }
 },
 "nbformat": 4,
 "nbformat_minor": 5
}
