{
  "cells": [
    {
      "cell_type": "code",
      "execution_count": null,
      "id": "60ef34e8",
      "metadata": {
        "id": "60ef34e8"
      },
      "outputs": [],
      "source": [
        "# SPDX-License-Identifier: Apache-2.0 AND CC-BY-NC-4.0\n",
        "#\n",
        "# Licensed under the Apache License, Version 2.0 (the \"License\");\n",
        "# you may not use this file except in compliance with the License.\n",
        "# You may obtain a copy of the License at\n",
        "#\n",
        "# http://www.apache.org/licenses/LICENSE-2.0\n",
        "#\n",
        "# Unless required by applicable law or agreed to in writing, software\n",
        "# distributed under the License is distributed on an \"AS IS\" BASIS,\n",
        "# WITHOUT WARRANTIES OR CONDITIONS OF ANY KIND, either express or implied.\n",
        "# See the License for the specific language governing permissions and\n",
        "# limitations under the License."
      ]
    },
    {
      "cell_type": "markdown",
      "id": "2f6225e7-58f5-439b-acff-aa13918f6472",
      "metadata": {
        "id": "2f6225e7-58f5-439b-acff-aa13918f6472"
      },
      "source": [
        "# Approximate Max-Cut using a Divide-and-Conquer Implementation of QAOA\n",
        "## Lab 3 Recursive Divide-and-Conquer QAOA\n",
        "## 3.1 Overview"
      ]
    },
    {
      "cell_type": "markdown",
      "id": "fd6bc9e4",
      "metadata": {
        "id": "fd6bc9e4"
      },
      "source": [
        "In the [previous lab](2_One-level-divide-and-conquer-QAOA.ipynb), our example graph was small enough that when divided into subgraphs, there were few subgraphs. Furthermore,  each subgraph was sufficiently small that we could apply QAOA to approximate the max cuts of the subgraphs. In this lab, we'll consider much bigger graphs which have large subgraph partitions, both in terms the size of the subgraphs and the number of subgraphs.  When the subgraphs are prohibitively large to find a max cut approximation with QAOA, we'll recursively apply the divide-and-conquer algorithm to those subgraphs.  Also, if the number of subgraphs in a partition is so large that the QAOA application during the merger stage of the algorithm cannot be carried out, we can recursively apply a divide-and-conquer QAOA to the merger graph as well. Finally, we'll demonstrate a parallel implementation of the algorithm and discuss several options for improving its accuracy.\n",
        "\n",
        "### 3.1.1 Outline of the lab\n",
        "\n",
        "This lab is structured similarly to [Labs 1](1_Overview-Max-Cut-with-QAOA.ipynb) and [2](2_One-level-divide-and-conquer-QAOA.ipynb). We will be translating the code developed in Labs 1 and 2 into functions for recursive implementation.\n",
        "\n",
        "* **3.2 Divide**\n",
        "    * Problem definition and classical approximation\n",
        "    * Define a function to carry out the divide stage of the algorithm recursively\n",
        "* **3.3 Conquer**\n",
        "    * Define a function to carry out the conquer stage of the algorithm recursively\n",
        "* **3.4 Merge**\n",
        "    * Define a function to carry out the merger stage of the algorithm recursively\n",
        "    * Combine all the parts together to find the max cut of `sampleGraph3`\n",
        "* **3.5 Enabling Distributed Quantum Computing**\n",
        "    * Run the recursive algorithm in parallel using MPI\n",
        "* **3.6 Further directions for experimentation**\n",
        "    * Summarize several features of the divide-and-conquer QAOA that could be modified for improved performance\n",
        "\n",
        "### 3.1.2 Learning objectives\n",
        "\n",
        "The learning objectives of this tutorial are:\n",
        "* Implement a recursive divide-and-conquer QAOA for Max Cut using CUDA Quantum\n",
        "* Select from different target devices to execute quantum circuits\n",
        "* Adapt the CUDA Quantum code to run in parallel through MPI\n",
        "* Experiment with different layer counts and seeds to recognize the effect of increased layers and initial parameter choices in QAOA\n",
        "* Identify several of the design choices available for implementing QAOA\n"
      ]
    },
    {
      "cell_type": "code",
      "execution_count": null,
      "id": "644b9c82",
      "metadata": {
        "id": "644b9c82"
      },
      "outputs": [],
      "source": [
        "# Necessary packages\n",
        "import networkx as nx\n",
        "from networkx import algorithms\n",
        "from networkx.algorithms import community\n",
        "import cudaq\n",
        "from cudaq import spin\n",
        "from cudaq.qis import *\n",
        "import numpy as np\n",
        "import matplotlib.pyplot as plt\n",
        "from typing import List"
      ]
    },
    {
      "cell_type": "code",
      "execution_count": null,
      "id": "8b48a195",
      "metadata": {
        "id": "8b48a195"
      },
      "outputs": [],
      "source": [
        "# Identifying and setting target\n",
        "targets = cudaq.get_targets()\n",
        "#for target in targets:\n",
        "#    print(target)\n",
        "cudaq.set_target(\"qpp-cpu\")\n",
        "target = cudaq.get_target()"
      ]
    },
    {
      "cell_type": "markdown",
      "id": "cd09a7fd",
      "metadata": {
        "id": "cd09a7fd"
      },
      "source": [
        "### 3.1.3 Reusable code from Labs 1 and 2\n",
        "\n",
        "The code blocks in this section were copied over from [Labs 1](1_Overview-Max-Cut-with-QAOA.ipynb) and [2](2_One-level-divide-and-conquer-QAOA.ipynb) and will be reused in this lab.  As you execute these cells, take a moment to read through them to recognize their purpose and logic."
      ]
    },
    {
      "cell_type": "code",
      "execution_count": null,
      "id": "d401fbf6",
      "metadata": {
        "id": "d401fbf6"
      },
      "outputs": [],
      "source": [
        "# Define a function to generate the Hamiltonian for a max cut problem using the graph G\n",
        "\n",
        "def hamiltonian_max_cut(sources : List[int], targets : List[int]):\n",
        "    \"\"\"Hamiltonian for finding the max cut for the graph  with edges defined by the pairs generated by source and target edges\n",
        "\n",
        "    Parameters\n",
        "    ----------\n",
        "    sources: List[int]\n",
        "        list of the source vertices for edges in the graph\n",
        "    targets: List[int]\n",
        "        list of the target vertices for the edges in the graph\n",
        "\n",
        "    Returns\n",
        "    -------\n",
        "    cudaq.SpinOperator\n",
        "        Hamiltonian for finding the max cut of the graph defined by the given edges\n",
        "    \"\"\"\n",
        "    hamiltonian = 0\n",
        "    # Since our vertices may not be a list from 0 to n, or may not even be integers,\n",
        "\n",
        "    for i in range(len(sources)):\n",
        "        # Add a term to the Hamiltonian for the edge (u,v)\n",
        "        qubitu = sources[i]\n",
        "        qubitv = targets[i]\n",
        "        hamiltonian += 0.5*(spin.z(qubitu)*spin.z(qubitv)-spin.i(qubitu)*spin.i(qubitv))\n",
        "\n",
        "    return hamiltonian\n",
        "\n",
        "# Problem Kernel\n",
        "\n",
        "@cudaq.kernel\n",
        "def qaoaProblem(qubit_0 : cudaq.qubit, qubit_1 : cudaq.qubit, alpha : float):\n",
        "    \"\"\"Build the QAOA gate sequence between two qubits that represent an edge of the graph\n",
        "    Parameters\n",
        "    ----------\n",
        "    qubit_0: cudaq.qubit\n",
        "        Qubit representing the first vertex of an edge\n",
        "    qubit_1: cudaq.qubit\n",
        "        Qubit representing the second vertex of an edge\n",
        "    alpha: float\n",
        "        Free variable\n",
        "\n",
        "    \"\"\"\n",
        "    x.ctrl(qubit_0, qubit_1)\n",
        "    rz(2.0*alpha, qubit_1)\n",
        "    x.ctrl(qubit_0, qubit_1)\n",
        "\n",
        "# Mixer Kernel\n",
        "@cudaq.kernel\n",
        "def qaoaMixer(qubit_0 : cudaq.qubit, beta : float):\n",
        "    \"\"\"Build the QAOA gate sequence that is applied to each qubit in the mixer portion of the circuit\n",
        "    Parameters\n",
        "    ----------\n",
        "    qubit_0: cudaq.qubit\n",
        "        Qubit\n",
        "    beta: float\n",
        "        Free variable\n",
        "\n",
        "    \"\"\"\n",
        "    rx(2.0*beta, qubit_0)\n",
        "\n",
        "\n",
        "# We now define the kernel_qaoa function which will be the QAOA circuit for our graph\n",
        "# Since the QAOA circuit for max cut depends on the structure of the graph,\n",
        "# we'll feed in global concrete variable values into the kernel_qaoa function for the qubit_count, layer_count, edges_src, edges_tgt.\n",
        "# The types for these variables are restricted to Quake Values (e.g. qubit, int, List[int], ...)\n",
        "# The thetas plaeholder will be our free parameters (the alphas and betas in the circuit diagrams depicted above)\n",
        "@cudaq.kernel\n",
        "def kernel_qaoa(qubit_count :int, layer_count: int, edges_src: List[int], edges_tgt: List[int], thetas : List[float]):\n",
        "    \"\"\"Build the QAOA circuit for max cut of the graph with given edges and nodes\n",
        "    Parameters\n",
        "    ----------\n",
        "    qubit_count: int\n",
        "        Number of qubits in the circuit, which is the same as the number of nodes in our graph\n",
        "    layer_count : int\n",
        "        Number of layers in the QAOA kernel\n",
        "    edges_src: List[int]\n",
        "        List of the first (source) node listed in each edge of the graph, when the edges of the graph are listed as pairs of nodes\n",
        "    edges_tgt: List[int]\n",
        "        List of the second (target) node listed in each edge of the graph, when the edges of the graph are listed as pairs of nodes\n",
        "    thetas: List[float]\n",
        "        Free variables to be optimized\n",
        "\n",
        "    \"\"\"\n",
        "    # Let's allocate the qubits\n",
        "    qreg = cudaq.qvector(qubit_count)\n",
        "\n",
        "    # And then place the qubits in superposition\n",
        "    h(qreg)\n",
        "\n",
        "    # Each layer has two components: the problem kernel and the mixer\n",
        "    for i in range(layer_count):\n",
        "        # Add the problem kernel to each layer\n",
        "        for edge in range(len(edges_src)):\n",
        "            qubitu = edges_src[edge]\n",
        "            qubitv = edges_tgt[edge]\n",
        "            qaoaProblem(qreg[qubitu], qreg[qubitv], thetas[i])\n",
        "        # Add the mixer kernel to each layer\n",
        "        for j in range(qubit_count):\n",
        "            qaoaMixer(qreg[j],thetas[i+layer_count])\n",
        "\n",
        "def find_optimal_parameters(G, layer_count, seed):\n",
        "    \"\"\"Function for finding the optimal parameters of QAOA for the max cut of a graph\n",
        "    Parameters\n",
        "    ----------\n",
        "    G: networkX graph\n",
        "        Problem graph whose max cut we aim to find\n",
        "    layer_count : int\n",
        "        Number of layers in the QAOA circuit\n",
        "    seed : int\n",
        "        Random seed for reproducibility of results\n",
        "\n",
        "    Returns\n",
        "    -------\n",
        "    list[float]\n",
        "        Optimal parameters for the QAOA applied to the given graph G\n",
        "    \"\"\"\n",
        "    parameter_count: int = 2 * layer_count\n",
        "\n",
        "    # Problem parameters\n",
        "    nodes = sorted(list(nx.nodes(G)))\n",
        "    qubit_src = []\n",
        "    qubit_tgt = []\n",
        "    for u, v in nx.edges(G):\n",
        "        # We can use the index() command to read out the qubits associated with the vertex u and v.\n",
        "        qubit_src.append(nodes.index(u))\n",
        "        qubit_tgt.append(nodes.index(v))\n",
        "    # The number of qubits we'll need is the same as the number of vertices in our graph\n",
        "    qubit_count : int = len(nodes)\n",
        "    # Each layer of the QAOA kernel contains 2 parameters\n",
        "    parameter_count : int = 2*layer_count\n",
        "\n",
        "    # Specify the optimizer and its initial parameters.\n",
        "    optimizer = cudaq.optimizers.COBYLA()\n",
        "    np.random.seed(seed)\n",
        "    optimizer.initial_parameters = np.random.uniform(-np.pi, np.pi,\n",
        "                                                     parameter_count)\n",
        "\n",
        "    # Pass the kernel, spin operator, and optimizer to `cudaq.vqe`.\n",
        "    optimal_expectation, optimal_parameters = cudaq.vqe(\n",
        "        kernel=kernel_qaoa,\n",
        "        spin_operator=hamiltonian_max_cut(qubit_src, qubit_tgt),\n",
        "        argument_mapper=lambda parameter_vector: (qubit_count, layer_count, qubit_src, qubit_tgt, parameter_vector),\n",
        "        optimizer=optimizer,\n",
        "        parameter_count=parameter_count)\n",
        "\n",
        "    return optimal_parameters"
      ]
    },
    {
      "cell_type": "code",
      "execution_count": null,
      "id": "791e3a5e",
      "metadata": {
        "id": "791e3a5e"
      },
      "outputs": [],
      "source": [
        "# These function from Lab 2 are used to identify the subgraph\n",
        "# that contains a given vertex, and identify the vertices of the parent graph\n",
        "# that lie on the border of the subgraphs in the subgraph dictionary\n",
        "\n",
        "def subgraph_of_vertex(graph_dictionary, vertex):\n",
        "    \"\"\"\n",
        "    A function that takes as input a subgraph partition (in the form of a graph dictionary) and a vertex.\n",
        "    The function should return the key associated with the subgraph that contains the given vertex.\n",
        "\n",
        "    Parameters\n",
        "    ----------\n",
        "    graph_dictionary: dict of networkX.Graph with str as keys\n",
        "    v : int\n",
        "        v is a name for a vertex\n",
        "    Returns\n",
        "    -------\n",
        "    str\n",
        "        the key associated with the subgraph that contains the given vertex.\n",
        "    \"\"\"\n",
        "    # in case a vertex does not appear in the graph_dictionary, return the empty string\n",
        "    location = ''\n",
        "\n",
        "    for key in graph_dictionary:\n",
        "        if vertex in graph_dictionary[key].nodes():\n",
        "            location = key\n",
        "    return location\n",
        "\n",
        "def border(G, subgraph_dictionary):\n",
        "    \"\"\"Build a graph made up of border vertices from the subgraph partition\n",
        "\n",
        "    Parameters\n",
        "    ----------\n",
        "    G: networkX.Graph\n",
        "        Graph whose max cut we want to find\n",
        "    subgraph_dictionary: dict of networkX graph with str as keys\n",
        "        Each graph in the dictionary should be a subgraph of G\n",
        "\n",
        "    Returns\n",
        "    -------\n",
        "    networkX.Graph\n",
        "        Subgraph of G made up of only the edges connecting subgraphs in the subgraph dictionary\n",
        "    \"\"\"\n",
        "    borderGraph = nx.Graph()\n",
        "    for u,v in G.edges():\n",
        "        border = True\n",
        "        for key in subgraph_dictionary:\n",
        "            SubG = subgraph_dictionary[key]\n",
        "            edges = list(nx.edges(SubG))\n",
        "            if (u,v) in edges:\n",
        "                border = False\n",
        "        if border==True:\n",
        "            borderGraph.add_edge(u,v)\n",
        "\n",
        "    return borderGraph"
      ]
    },
    {
      "cell_type": "code",
      "execution_count": null,
      "id": "e3d96bc2",
      "metadata": {
        "id": "e3d96bc2"
      },
      "outputs": [],
      "source": [
        "# Returns the cut value of G based on the coloring of the nodes of G\n",
        "\n",
        "def cutvalue(G):\n",
        "    \"\"\"Returns the cut value of G based on the coloring of the nodes of G\n",
        "\n",
        "    Parameters\n",
        "    ----------\n",
        "    G: networkX.Graph\n",
        "        Graph with binary value colors assigned to the vertices\n",
        "\n",
        "    Returns\n",
        "    -------\n",
        "    int\n",
        "        cut value of the graph determined by the vertex colors\n",
        "    \"\"\"\n",
        "    cut = 0\n",
        "    for u, v in G.edges():\n",
        "        if G.nodes[u]['color'] != G.nodes[v]['color']:\n",
        "            cut+=1\n",
        "    return cut"
      ]
    },
    {
      "cell_type": "markdown",
      "id": "d3721df5",
      "metadata": {
        "id": "d3721df5"
      },
      "source": [
        "## 3.2 Divide\n",
        "### 3.2.1 Defining a larger example graph"
      ]
    },
    {
      "cell_type": "markdown",
      "id": "92a9d25d",
      "metadata": {
        "id": "92a9d25d"
      },
      "source": [
        "In [Lab 2](2_One-level-divide-and-conquer-QAOA.ipynb) we experimented with a graph of 30 vertices. Let's ramp this up and start with a graph of 100 vertices!\n",
        "\n",
        "We'll consider a randomly generated graph with a little more structure than the previous lab. The graph type is called the Newman Watts Strogatz network model. After you've completed the lab with this example, feel free to edit the parameters and uncomment/comment portions of the code below to test out other graphs."
      ]
    },
    {
      "cell_type": "code",
      "execution_count": null,
      "id": "8772d4c2",
      "metadata": {
        "id": "8772d4c2",
        "outputId": "cb0e0e7c-d7bd-4661-f89e-a1fc645b618e"
      },
      "outputs": [],
      "source": [
        "# Newman Watts Strogatz network model\n",
        "n = 100 # number of numdes\n",
        "k = 4 # each node joined to k nearest neighbors\n",
        "p =0.8 # probability of adding a new edge\n",
        "seed = 1234\n",
        "sampleGraph3=nx.newman_watts_strogatz_graph(n, k, p, seed=seed)\n",
        "\n",
        "\n",
        "# Random d-regular graphs used in the paper arxiv:2205.11762\n",
        "# d from 3, 9 inclusive\n",
        "# number of vertices from from 60 to 80\n",
        "# taking d=6 and n =100, works well\n",
        "# d = 6\n",
        "# n =100\n",
        "# seed = 1234\n",
        "#sampleGraph3=nx.random_regular_graph(d,n,seed=seed)\n",
        "\n",
        "\n",
        "#random graph from lab 2\n",
        "#n = 30  # number of nodes\n",
        "#m = 70  # number of edges\n",
        "#seed= 20160  # seed random number generators for reproducibility\n",
        "# Use seed for reproducibility\n",
        "#sampleGraph3= nx.gnm_random_graph(n, m, seed=seed)\n",
        "\n",
        "\n",
        "# Plot example graph for which we will be trying to compute the max cut\n",
        "nx.draw(sampleGraph3, with_labels=True)\n",
        "plt.show()\n"
      ]
    },
    {
      "cell_type": "markdown",
      "id": "d6f5a873",
      "metadata": {
        "id": "d6f5a873"
      },
      "source": [
        "Let's approximate the max cut for this graph classically.  This will take a little longer than the classical approximation of max cut for the smaller graph in [Lab 2](2_One-level-divide-and-conquer-QAOA.ipynb), and as you'll see there is a much larger variation in approximation results."
      ]
    },
    {
      "cell_type": "code",
      "execution_count": null,
      "id": "744c2f54",
      "metadata": {
        "id": "744c2f54",
        "outputId": "73f062cf-93e4-41b2-f5cf-3ae42a328f1e"
      },
      "outputs": [],
      "source": [
        "number_of_approx =10\n",
        "randomlist = np.random.choice(3000,number_of_approx)\n",
        "\n",
        "\n",
        "minapprox = nx.algorithms.approximation.one_exchange(sampleGraph3, initial_cut=None, seed=int(randomlist[0]))[0]\n",
        "maxapprox = minapprox\n",
        "sum_of_approximations = 0\n",
        "for i in range(number_of_approx):\n",
        "   seed = int(randomlist[i])\n",
        "   ith_approximation = nx.algorithms.approximation.one_exchange(sampleGraph3, initial_cut=None, seed=seed)[0]\n",
        "   if ith_approximation < minapprox:\n",
        "      minapprox = ith_approximation\n",
        "   if ith_approximation > maxapprox:\n",
        "      maxapprox = ith_approximation\n",
        "   sum_of_approximations += nx.algorithms.approximation.one_exchange(sampleGraph3, initial_cut=None, seed=seed)[0]\n",
        "\n",
        "average_approx = sum_of_approximations/number_of_approx\n",
        "\n",
        "print('A few runs of the greedy modularity maximization algorithm gives an average approximate Max Cut value of',average_approx)\n",
        "print('with approximations ranging from',minapprox,'to',maxapprox)"
      ]
    },
    {
      "cell_type": "markdown",
      "id": "82cb6fed",
      "metadata": {
        "id": "82cb6fed"
      },
      "source": [
        " The code for the subgraph partitioning from [Lab 2](2_One-level-divide-and-conquer-QAOA.ipynb) is copied below.  We'll need to adapt this code for recursion.  But first, to appreciate the need for a recursive algorithm, let's use this code to partition the `sampleGraph3` graph into smaller subgraphs to get a sense of the scale of the graph."
      ]
    },
    {
      "cell_type": "code",
      "execution_count": null,
      "id": "14b6034c",
      "metadata": {
        "id": "14b6034c"
      },
      "outputs": [],
      "source": [
        "# Function from Lab 2 to return a dictionary of subgraphs of the input graph\n",
        "# using the greedy modularity maximization algorithm\n",
        "\n",
        "def Lab2SubgraphPartition(G,n):\n",
        "    \"\"\"Divide the graph up into at most n subgraphs\n",
        "\n",
        "    Parameters\n",
        "    ----------\n",
        "    G: networkX.Graph\n",
        "        Graph that we want to subdivide\n",
        "    n : int\n",
        "        n is the maximum number of subgraphs in the partition\n",
        "\n",
        "    Returns\n",
        "    -------\n",
        "    dict of str : networkX.Graph\n",
        "        Dictionary of networkX graphs with a string as the key\n",
        "    \"\"\"\n",
        "    # n is the maximum number of subgraphs in the partition\n",
        "    greedy_partition = community.greedy_modularity_communities(G, weight=None, resolution=1.1, cutoff=1, best_n=n)\n",
        "    number_of_subgraphs = len(greedy_partition)\n",
        "\n",
        "    graph_dictionary = {}\n",
        "    graph_names=[]\n",
        "    for i in range(number_of_subgraphs):\n",
        "        name='G'+str(i)\n",
        "        graph_names.append(name)\n",
        "\n",
        "    for i in range(number_of_subgraphs):\n",
        "        nodelist = sorted(list(greedy_partition[i]))\n",
        "        graph_dictionary[graph_names[i]] = nx.subgraph(G, nodelist)\n",
        "\n",
        "    return(graph_dictionary)"
      ]
    },
    {
      "cell_type": "code",
      "execution_count": null,
      "id": "f7b2ba2a",
      "metadata": {
        "id": "f7b2ba2a",
        "outputId": "61f43689-ab35-4ac8-8edd-41da08a8bf2c"
      },
      "outputs": [],
      "source": [
        "num_subgraphs = min(12, sampleGraph3.number_of_nodes()) # maximum number of subgraphs for the partition\n",
        "subgraph_dictionary = Lab2SubgraphPartition(sampleGraph3,num_subgraphs)\n",
        "\n",
        "# Print the subgraphs and their information\n",
        "print('The parent graph is subdivided into',len(subgraph_dictionary),'subgraphs.')\n",
        "for key in subgraph_dictionary:\n",
        "    print('Graph',key,'has',len(nx.nodes(subgraph_dictionary[key])),'vertices.')\n",
        "    print('Graph',key,'has',len\n",
        "          (nx.edges(subgraph_dictionary[key])),'edges.')\n"
      ]
    },
    {
      "cell_type": "markdown",
      "id": "4f40dc9c",
      "metadata": {
        "id": "4f40dc9c"
      },
      "source": [
        "The graph `G0` may be too large for a standard implementation of QAOA, especially if many layers of the QAOA kernel are used or if the algorithm is executed on a CPU. Even larger and denser graphs will lead to partitions that are just unmanageable for even the most powerful machines. Therefore, we will recursively call the divide-and-conquer QAOA algorithm to find the max cut solution.  In fact, in the interest of time, we will apply the divide stage of the algorithm to any subgraph that has more than 14 vertices. To keep track of the original graph, its subgraphs, their subgraphs, etc. we will need to edit the subgraph partitioning function from [Lab 2](2_One-level-divide-and-conquer-QAOA.ipynb) and adapt a new subgraph naming scheme. In the new naming scheme, `Global:0` will be the first subgraph in the partitioning of `sampleGraph3`.  If `Global:0` was large and was further subdivided, the the name `Global:0:1` will represent the second subgraph of the subgraph partitioning of `Global:0`. The naming scheme continues to follow this pattern. This new naming scheme is added to the `subgraph_partition` function in the code block below."
      ]
    },
    {
      "cell_type": "code",
      "execution_count": null,
      "id": "348f5f61",
      "metadata": {
        "id": "348f5f61"
      },
      "outputs": [],
      "source": [
        "def subgraphpartition(G,n, name, globalGraph):\n",
        "    # G is a graph to be partitioned\n",
        "\n",
        "    \"\"\"Divide the graph up into at most n subgraphs\n",
        "\n",
        "    Parameters\n",
        "    ----------\n",
        "    G: networkX.Graph\n",
        "        Graph that we want to subdivide which lives inside of or is equatl to globalGraph\n",
        "    n : int\n",
        "        n is the maximum number of subgraphs in the partition\n",
        "    name : str\n",
        "        prefix for the graphs (in our case we'll use 'Global')\n",
        "    globalGraph: networkX.Graph\n",
        "        original problem graph\n",
        "\n",
        "    Returns\n",
        "    -------\n",
        "    dict of str : networkX.Graph\n",
        "        Dictionary of networkX graphs with a string as the key\n",
        "    \"\"\"\n",
        "    greedy_partition = community.greedy_modularity_communities(G, weight=None, resolution=1.1, cutoff=1, best_n=n)\n",
        "    number_of_subgraphs = len(greedy_partition)\n",
        "\n",
        "    graph_dictionary = {}\n",
        "    graph_names=[]\n",
        "    for i in range(number_of_subgraphs):\n",
        "        subgraphname=name+':'+str(i)\n",
        "        graph_names.append(subgraphname)\n",
        "\n",
        "    for i in range(number_of_subgraphs):\n",
        "        nodelist = sorted(list(greedy_partition[i]))\n",
        "        graph_dictionary[graph_names[i]] = nx.subgraph(globalGraph, nodelist)\n",
        "\n",
        "    return(graph_dictionary)"
      ]
    },
    {
      "cell_type": "markdown",
      "id": "f3c884d7",
      "metadata": {
        "id": "f3c884d7"
      },
      "source": [
        "**Exercise 1:** Edit the three `FIX_ME` lines in the code block below to call `subgraphpartition` recursively.  We'll assume that we can handle QAOA instances of 14 qubits.  Therefore any subgraph of more than 14 vertices will get subdivided."
      ]
    },
    {
      "cell_type": "code",
      "execution_count": null,
      "id": "15e199d5",
      "metadata": {
        "id": "15e199d5"
      },
      "outputs": [],
      "source": [
        "# Exercise 1\n",
        "num_qubits = 14\n",
        "n = 12 # maximum number of subgraphs in a subgraph partitioning\n",
        "def recursive_partition(G,name, global_graph):\n",
        "    \"\"\"Divide the graph up into subgraphs of at most num_qubits vertices recursively\n",
        "\n",
        "    Parameters\n",
        "    ----------\n",
        "    G: networkX.Graph\n",
        "        Graph that we want to subdivide which is a subgraph of global_graph\n",
        "    name : str\n",
        "        prefix for the graphs (in our case we'll use 'Global')\n",
        "    global_graph : networkX.Graph\n",
        "        parent graph\n",
        "\n",
        "    Returns\n",
        "    -------\n",
        "    dict of str : networkX.Graph\n",
        "        Dictionary of networkX graphs with a string as the key\n",
        "    \"\"\"\n",
        "    if nx.number_of_nodes(G)<FIX_ME:                             # Edit this line\n",
        "        print('Graph',name,'has',len(nx.nodes(G)),'vertices.')\n",
        "    else:\n",
        "        max_num_subgraphs = min(n, nx.number_of_nodes(G))\n",
        "        new_subgraphs = FIX_ME(G, max_num_subgraphs, name, global_graph)   # Edit this line\n",
        "        for key in new_subgraphs:\n",
        "            FIX_ME(new_subgraphs[key],key, global_graph)        # Edit this line\n",
        "\n",
        "# Apply the partitioning function to the sampleGraph3\n",
        "recursive_partition(sampleGraph3, 'Global', sampleGraph3)\n"
      ]
    },
    {
      "cell_type": "markdown",
      "id": "009e0fe1",
      "metadata": {
        "id": "009e0fe1"
      },
      "source": [
        "## 3.3 Conquer"
      ]
    },
    {
      "cell_type": "markdown",
      "id": "db33d583",
      "metadata": {
        "id": "db33d583"
      },
      "source": [
        "As you experiment with subdividing other graphs, you might notice that the last few subgraphs may only contain 1 vertex and/or no edges.  The max cut for these subgraphs is trivial. It would be wasteful to run the QAOA subroutine on these subgraphs, and a Hamiltonian = 0 will cause problems with the optimizer loop.  Let's edit the QAOA code below to return a random assignment of 0s and 1s for graphs that contain only one vertex and/or no edges.  "
      ]
    },
    {
      "cell_type": "markdown",
      "id": "baaab974",
      "metadata": {
        "id": "baaab974"
      },
      "source": [
        "**Exercise 2:** Edit the code below to return a random string of 0s and 1s, with the same length as the number of vertices of the graph."
      ]
    },
    {
      "cell_type": "code",
      "execution_count": null,
      "id": "f78595c8",
      "metadata": {
        "id": "f78595c8"
      },
      "outputs": [],
      "source": [
        "# Exercise 2\n",
        "def qaoa_for_graph(G, layer_count, shots, seed):\n",
        "    \"\"\"Function for finding the max cut of a graph using QAOA\n",
        "\n",
        "    Parameters\n",
        "    ----------\n",
        "    G: networkX graph\n",
        "        Problem graph whose max cut we aim to find\n",
        "    layer_count : int\n",
        "        Number of layers in the QAOA circuit\n",
        "    shots : int\n",
        "        Number of shots in the sampling subroutine\n",
        "    seed : int\n",
        "        Random seed for reproducibility of results\n",
        "\n",
        "    Returns\n",
        "    -------\n",
        "    str\n",
        "        Binary string representing the max cut coloring of the vertinces of the graph\n",
        "    \"\"\"\n",
        "    ### Edit code below to return a random string of 0s and 1s\n",
        "    ### if G has only one vertex and/or no edges\n",
        "    ### The string should have the same length as the number of\n",
        "    ### vertices of G.\n",
        "    if FIX_ME:\n",
        "\n",
        "\n",
        "\n",
        "\n",
        "    ### Edit code above\n",
        "    else:\n",
        "        parameter_count: int = 2 * layer_count\n",
        "\n",
        "        # Problem parameters\n",
        "        nodes = sorted(list(nx.nodes(G)))\n",
        "        qubit_src = []\n",
        "        qubit_tgt = []\n",
        "        for u, v in nx.edges(G):\n",
        "            # We can use the index() command to read out the qubits associated with the vertex u and v.\n",
        "            qubit_src.append(nodes.index(u))\n",
        "            qubit_tgt.append(nodes.index(v))\n",
        "        # The number of qubits we'll need is the same as the number of vertices in our graph\n",
        "        qubit_count : int = len(nodes)\n",
        "        # Each layer of the QAOA kernel contains 2 parameters\n",
        "        parameter_count : int = 2*layer_count\n",
        "\n",
        "        optimal_parameters = find_optimal_parameters(G, layer_count, seed)\n",
        "\n",
        "        # Print the optimized parameters\n",
        "        print(\"Optimal parameters = \", optimal_parameters)\n",
        "\n",
        "        # Sample the circuit\n",
        "        counts = cudaq.sample(kernel_qaoa, qubit_count, layer_count, qubit_src, qubit_tgt, optimal_parameters, shots_count=shots)\n",
        "        print('most_probable outcome = ',counts.most_probable())\n",
        "        results = str(counts.most_probable())\n",
        "    return results"
      ]
    },
    {
      "cell_type": "markdown",
      "id": "7b021993",
      "metadata": {
        "id": "7b021993"
      },
      "source": [
        "## 3.4 Merge"
      ]
    },
    {
      "cell_type": "markdown",
      "id": "f12aea49",
      "metadata": {
        "id": "f12aea49"
      },
      "source": [
        "The functions below are based on code from [Lab 2](2_One-level-divide-and-conquer-QAOA.ipynb) that carry out the merger step of the divide-and-conquer QAOA. As you execute the code blocks, familiarize yourself with the function definitions."
      ]
    },
    {
      "cell_type": "code",
      "execution_count": null,
      "id": "33184229",
      "metadata": {
        "id": "33184229"
      },
      "outputs": [],
      "source": [
        "\n",
        "# Define the mergerGraph for a given border graph and subgraph\n",
        "# partitioning. And color code the vertices\n",
        "# according to the subgraph that the vertex represents\n",
        "def createMergerGraph(border, subgraphs):\n",
        "    \"\"\"Build a graph containing a vertex for each subgraph\n",
        "    and edges between vertices are added if there is an edge between\n",
        "    the corresponding subgraphs\n",
        "\n",
        "    Parameters\n",
        "    ----------\n",
        "    border : networkX.Graph\n",
        "        Graph of connections between vertices in distinct subgraphs\n",
        "    subgraphs : dict of networkX graph with str as keys\n",
        "        The nodes of border should be a subset of the the graphs in the subgraphs dictionary\n",
        "\n",
        "    Returns\n",
        "    -------\n",
        "    networkX.Graph\n",
        "        Merger graph containing a vertex for each subgraph\n",
        "        and edges between vertices are added if there is an edge between\n",
        "        the corresponding subgraphs\n",
        "    \"\"\"\n",
        "    M = nx.Graph()\n",
        "\n",
        "    for u, v in border.edges():\n",
        "        subgraph_id_for_u = subgraph_of_vertex(subgraphs, u)\n",
        "        subgraph_id_for_v = subgraph_of_vertex(subgraphs, v)\n",
        "        if subgraph_id_for_u != subgraph_id_for_v:\n",
        "            M.add_edge(subgraph_id_for_u, subgraph_id_for_v)\n",
        "    return M\n",
        "\n",
        "\n",
        "# Compute the penalties for edges in the supplied mergerGraph\n",
        "# for the subgraph partitioning of graph G\n",
        "def merger_graph_penalties(mergerGraph, subgraph_dictionary, G):\n",
        "    \"\"\"Compute penalties for the edges in the mergerGraph and add them\n",
        "    as edge attributes.\n",
        "\n",
        "    Parameters\n",
        "    ----------\n",
        "    mergerGraph : networkX.Graph\n",
        "        Graph of connections between vertices in distinct subgraphs of G\n",
        "    subgraph_dictionary : dict of networkX graph with str as keys\n",
        "        subgraphs of G that are represented as nodes in the mergerGraph\n",
        "    G : networkX.Graph\n",
        "        graph whose vertices has an attribute 'color'\n",
        "\n",
        "    Returns\n",
        "    -------\n",
        "    networkX.Graph\n",
        "        Merger graph containing penalties\n",
        "    \"\"\"\n",
        "    nx.set_edge_attributes(mergerGraph, int(0), 'penalty')\n",
        "    for i, j in mergerGraph.edges():\n",
        "        penalty_ij = 0\n",
        "        for u in nx.nodes(subgraph_dictionary[i]):\n",
        "            for neighbor_u in nx.all_neighbors(G, u):\n",
        "                if neighbor_u in nx.nodes(subgraph_dictionary[j]):\n",
        "                    if G.nodes[u]['color'] != G.nodes[neighbor_u]['color']:\n",
        "                        penalty_ij += 1\n",
        "                    else:\n",
        "                        penalty_ij += -1\n",
        "        mergerGraph[i][j]['penalty'] = penalty_ij\n",
        "    return mergerGraph\n",
        "\n",
        "\n",
        "# Define the Hamiltonian for applying QAOA during the merger stage\n",
        "# The variables s_i are defined so that s_i = 1 means we will not\n",
        "# flip the subgraph Gi's colors and s_i = -1 means we will flip the colors of subgraph G_i\n",
        "def mHamiltonian(merger_edge_src, merger_edge_tgt, penalty):\n",
        "    \"\"\"Hamiltonian for finding the optimal swap schedule for the subgraph partitioning encoded in the merger graph\n",
        "\n",
        "    Parameters\n",
        "    ----------\n",
        "    merger_edge_src: List[int]\n",
        "        list of the source vertices of edges of a graph\n",
        "    merger_edge_tgt: List[int]\n",
        "        list of target vertices of edges of a graph\n",
        "    penalty: List[int]\n",
        "        list of penalty terms associated with the edge determined by the source and target vertex of the same index\n",
        "\n",
        "    Returns\n",
        "    -------\n",
        "    cudaq.SpinOperator\n",
        "        Hamiltonian for finding the optimal swap schedule for the subgraph partitioning encoded in the merger graph\n",
        "    \"\"\"\n",
        "    mergerHamiltonian = 0\n",
        "\n",
        " # Add Hamiltonian terms for edges within a subgraph that contain a border element\n",
        "    for i in range(len(merger_edge_src)):\n",
        "        # Add a term to the Hamiltonian for the edge (u,v)\n",
        "        qubitu = merger_edge_src[i]\n",
        "        qubitv = merger_edge_tgt[i]\n",
        "        mergerHamiltonian+= -penalty[i]*(spin.z(qubitu))*(spin.z(qubitv))\n",
        "    return mergerHamiltonian"
      ]
    },
    {
      "cell_type": "code",
      "execution_count": null,
      "id": "5939ea67",
      "metadata": {
        "id": "5939ea67"
      },
      "outputs": [],
      "source": [
        "# Next we define some functions to keep track of the unaltered cuts\n",
        "# (recorded as unaltered_colors) and the merged cuts (recorded as new_colors).\n",
        "# The new_colors are derived from flipping the colors\n",
        "# of all the nodes in a subgraph based on the flip_colors variable which\n",
        "# captures the solution to the merger QAOA problem.\n",
        "\n",
        "def unaltered_colors(G, graph_dictionary, max_cuts):\n",
        "    \"\"\"Adds colors to each vertex, v, of G based on the color of v in the subgraph containing v which is\n",
        "    read from the max_cuts dictionary\n",
        "\n",
        "    Parameters\n",
        "    ----------\n",
        "    G : networkX.Graph\n",
        "        Graph with vertex color attributes\n",
        "    subgraph_dictionary : dict of networkX graph with str as keys\n",
        "        subgraphs of G\n",
        "    max_cuts : dict of str\n",
        "        dictionary of node colors for subgraphs in the subgraph_dictionary\n",
        "\n",
        "    Returns\n",
        "    -------\n",
        "    networkX.Graph, str\n",
        "        returns G with colored nodes\n",
        "    \"\"\"\n",
        "    subgraphColors={}\n",
        "\n",
        "\n",
        "    for key in graph_dictionary:\n",
        "        SubG = graph_dictionary[key]\n",
        "        sorted_subgraph_nodes = sorted(list(nx.nodes(SubG)))\n",
        "        for v in sorted_subgraph_nodes:\n",
        "            G.nodes[v]['color']=max_cuts[key][sorted_subgraph_nodes.index(v)]\n",
        "    # returns the input graph G with a coloring of the nodes based on the unaltered merger\n",
        "    # of the max cut solutions of the subgraphs in the graph_dictionary\n",
        "    return G\n",
        "\n",
        "def new_colors(graph_dictionary, G, mergerGraph, flip_colors):\n",
        "    \"\"\"For each subgraph in the flip_colors list, changes the color of all the vertices in that subgraph\n",
        "    and records this information in the color attribute of G\n",
        "\n",
        "    Parameters\n",
        "    ----------\n",
        "    graph_dictionary : dict of networkX graph with str as keys\n",
        "        subgraphs of G\n",
        "    G : networkX.Graph\n",
        "        Graph with vertex color attributes\n",
        "    mergerGraph: networkX.Graph\n",
        "        Graph whose vertices represent subgraphs in the graph_dictionary\n",
        "    flip_colors : dict of str\n",
        "        dictionary of binary strings for subgraphs in the subgraph_dictionary\n",
        "        key:0 indicates the node colors remain fixed in subgraph called key\n",
        "        key:1 indicates the node colors should be flipped in subgraph key\n",
        "\n",
        "    Returns\n",
        "    -------\n",
        "    networkX.Graph, str\n",
        "        returns G with the revised vertex colors\n",
        "    \"\"\"\n",
        "    flipGraphColors={}\n",
        "    mergerNodes = sorted(list(nx.nodes(mergerGraph)))\n",
        "    for u in mergerNodes:\n",
        "        indexu = mergerNodes.index(u)\n",
        "        flipGraphColors[u]=int(flip_colors[indexu])\n",
        "\n",
        "    for key in graph_dictionary:\n",
        "        if flipGraphColors[key]==1:\n",
        "            for u in graph_dictionary[key].nodes():\n",
        "                G.nodes[u]['color'] = str(1 - int(G.nodes[u]['color']))\n",
        "\n",
        "    revised_colors = ''\n",
        "    for u in sorted(G.nodes()):\n",
        "        revised_colors += str(G.nodes[u]['color'])\n",
        "\n",
        "    return G, revised_colors\n"
      ]
    },
    {
      "cell_type": "code",
      "execution_count": null,
      "id": "c5b1e576",
      "metadata": {
        "id": "c5b1e576"
      },
      "outputs": [],
      "source": [
        "# A function to carry out QAOA during the merger stage of the\n",
        "# divide-and-conquer QAOA algorithm for graph G, its subgraphs (graph_dictionary)\n",
        "# and merger_graph\n",
        "\n",
        "def merging(G, graph_dictionary, merger_graph):\n",
        "    \"\"\"\n",
        "    Using QAOA, identify which subgraphs should be in the swap schedule (e.g. which subgraphs will require\n",
        "    flipping of the colors when merging the subgraph solutions into a solution of the graph G\n",
        "\n",
        "    Parameters\n",
        "    ----------\n",
        "    G : networkX.Graph\n",
        "        Graph with vertex color attributes\n",
        "    graph_dictionary : dict of networkX graph with str as keys\n",
        "        subgraphs of G\n",
        "    mergerGraph : networkX.Graph\n",
        "        Graph whose vertices represent subgraphs in the graph_dictionary\n",
        "\n",
        "    Returns\n",
        "    -------\n",
        "    str\n",
        "        returns string of 0s and 1s indicating which subgraphs should have their colors swapped\n",
        "    \"\"\"\n",
        "\n",
        "    merger_graph_with_penalties = merger_graph_penalties(merger_graph,graph_dictionary, G)\n",
        "    # In the event that the merger penalties are not trivial, run QAOA, else don't flip any graph colors\n",
        "    if (True in (merger_graph_with_penalties[u][v]['penalty'] != 0 for u, v in nx.edges(merger_graph_with_penalties))):\n",
        "\n",
        "        penalty = []\n",
        "        merger_edge_src = []\n",
        "        merger_edge_tgt = []\n",
        "        merger_nodes = sorted(list(merger_graph_with_penalties.nodes()))\n",
        "        for u, v in nx.edges(merger_graph_with_penalties):\n",
        "            # We can use the index() command to read out the qubits associated with the vertex u and v.\n",
        "            merger_edge_src.append(merger_nodes.index(u))\n",
        "            merger_edge_tgt.append(merger_nodes.index(v))\n",
        "            penalty.append(merger_graph_with_penalties[u][v]['penalty'])\n",
        "\n",
        "        merger_Hamiltonian = mHamiltonian(merger_edge_src, merger_edge_tgt, penalty)\n",
        "\n",
        "        # Run QAOA on the merger subgraph to identify which subgraphs\n",
        "        # if any should change colors\n",
        "        layer_count_merger = 2 # set arbitrarily\n",
        "        parameter_count_merger: int = 2 * layer_count_merger\n",
        "        nodes_merger = sorted(list(nx.nodes(merger_graph)))\n",
        "        merger_edge_src = []\n",
        "        merger_edge_tgt = []\n",
        "        for u, v in nx.edges(merger_graph_with_penalties):\n",
        "            # We can use the index() command to read out the qubits associated with the vertex u and v.\n",
        "            merger_edge_src.append(nodes_merger.index(u))\n",
        "            merger_edge_tgt.append(nodes_merger.index(v))\n",
        "        # The number of qubits we'll need is the same as the number of vertices in our graph\n",
        "        qubit_count_merger : int = len(nodes_merger)\n",
        "\n",
        "        # Specify the optimizer and its initial parameters. Make it repeatable.\n",
        "        cudaq.set_random_seed(12345)\n",
        "        optimizer_merger = cudaq.optimizers.COBYLA()\n",
        "        np.random.seed(4321)\n",
        "        optimizer_merger.initial_parameters = np.random.uniform(-np.pi, np.pi,\n",
        "                                                     parameter_count_merger)\n",
        "        optimizer_merger.max_iterations=150\n",
        "        # Pass the kernel, spin operator, and optimizer to `cudaq.vqe`.\n",
        "        optimal_expectation, optimal_parameters = cudaq.vqe(\n",
        "            kernel=kernel_qaoa,\n",
        "            spin_operator=merger_Hamiltonian,\n",
        "            argument_mapper=lambda parameter_vector: (qubit_count_merger, layer_count_merger, merger_edge_src, merger_edge_tgt, parameter_vector),\n",
        "            optimizer=optimizer_merger,\n",
        "            parameter_count=parameter_count_merger,\n",
        "            shots = 10000)\n",
        "\n",
        "        # Sample the circuit using the optimized parameters\n",
        "        # Sample enough times to distinguish the most_probable outcome for\n",
        "        # merger graphs with 12 vertices\n",
        "        sample_number=30000\n",
        "        counts = cudaq.sample(kernel_qaoa, qubit_count_merger, layer_count_merger, merger_edge_src, merger_edge_tgt, optimal_parameters, shots_count=10000)\n",
        "        mergerResultsString = str(counts.most_probable())\n",
        "\n",
        "    else:\n",
        "        mergerResultsList = [0]*nx.number_of_nodes(merger_graph)\n",
        "        mergerResultsString = ''.join(str(x) for x in mergerResultsList)\n",
        "        print('Merging stage is trivial')\n",
        "    return mergerResultsString\n"
      ]
    },
    {
      "cell_type": "markdown",
      "id": "b0100411",
      "metadata": {
        "id": "b0100411"
      },
      "source": [
        "In this lab, we have capped our subgraph partitions to only have 11 subgraphs. This means that the merger graphs that we generate are all limited in size. Therefore, few qubits are needed for the QAOA circuits that are created during the `merging` phase of the algorithm. For much larger and denser graphs, we may find partitions that result in dozens of subgraphs whose solutions need to be merged together. For these cases, we can apply another divide-and-conquer protocol at the merger stage of the algorithm. We leave this as an optional bonus exercise."
      ]
    },
    {
      "cell_type": "markdown",
      "id": "db20e2e3",
      "metadata": {
        "id": "db20e2e3"
      },
      "source": [
        "## 3.4 Putting it all together"
      ]
    },
    {
      "cell_type": "markdown",
      "id": "836425bd",
      "metadata": {
        "id": "836425bd"
      },
      "source": [
        "We now have all of the components necessary to define a function `subgraph_solution` that will carry out the divide-and-conquer QAOA recursively."
      ]
    },
    {
      "cell_type": "markdown",
      "id": "573845fe",
      "metadata": {
        "id": "573845fe"
      },
      "source": [
        "**Exercise 3:** Fill in the `FIX_ME`s with the functions from the list:\n",
        "\n",
        "\n",
        "* `border`\n",
        "* `createMergerGraph`\n",
        "* `merging`\n",
        "* `new_colors`\n",
        "* `qaoa_for_subgraph`\n",
        "* `subgraphpartition`\n",
        "* `subgraph_solution`\n",
        "* `unaltered_colors`\n",
        "\n"
      ]
    },
    {
      "cell_type": "code",
      "execution_count": null,
      "id": "4bd347bd",
      "metadata": {
        "id": "4bd347bd"
      },
      "outputs": [],
      "source": [
        "# Exercise 3\n",
        "\n",
        "def subgraph_solution(G, key, vertex_limit, subgraph_limit, layer_count, global_graph,seed ):\n",
        "    \"\"\"\n",
        "    Recursively finds max cut approximations of the subgraphs of the global_graph\n",
        "    Parameters\n",
        "    ----------\n",
        "    G : networkX.Graph\n",
        "        Graph with vertex color attributes\n",
        "    key : str\n",
        "        name of subgraph\n",
        "    vertex_limit : int\n",
        "        maximum size of graph to which QAOA will be applied directly\n",
        "    subgraph_limit : int\n",
        "        maximum size of the merger graphs, or maximum number of subgraphs in any subgraph decomposition\n",
        "    layer_count : int\n",
        "        number of layers in QAOA circuit for finding max cut solutions\n",
        "    global_graph : networkX.Graph\n",
        "        the parent graph\n",
        "    seed : int\n",
        "        random seed for reproducibility\n",
        "\n",
        "    Returns\n",
        "    -------\n",
        "    str\n",
        "        returns string of 0s and 1s representing colors of vertices of global_graph for the approx max cut solution\n",
        "    \"\"\"\n",
        "    results ={}\n",
        "    seed +=1\n",
        "    # Find the max cut of G using QAOA, provided G is small enough\n",
        "    if nx.number_of_nodes(G)<vertex_limit+1:\n",
        "        print('Working on finding max cut approximations for ',key)\n",
        "\n",
        "        result = FIX_ME(G, seed=seed, shots = 10000, layer_count=layer_count)\n",
        "        results[key]=result\n",
        "        # color the global graph's nodes according to the results\n",
        "        nodes_of_G = sorted(list(G.nodes()))\n",
        "        for u in G.nodes():\n",
        "            global_graph.nodes[u]['color']=results[key][nodes_of_G.index(u)]\n",
        "        return result\n",
        "    else: # Recursively apply the algorithm in case G is too big\n",
        "        # Divide the graph and identify the subgraph dictionary\n",
        "        subgraph_limit =min(subgraph_limit, nx.number_of_nodes(G) )\n",
        "        subgraph_dictionary = FIX_ME(G,subgraph_limit, str(key), global_graph)\n",
        "\n",
        "        # Conquer: solve the subgraph problems recursively\n",
        "        for skey in subgraph_dictionary:\n",
        "            results[skey]=FIX_ME(subgraph_dictionary[skey], skey, vertex_limit, subgraph_limit, \\\n",
        "                                            layer_count, global_graph, seed )\n",
        "\n",
        "        print('Found max cut approximations for ',list(subgraph_dictionary.keys()))\n",
        "\n",
        "\n",
        "        # Color the nodes of G to indicate subgraph max cut solutions\n",
        "        G = FIX_ME(G, subgraph_dictionary, results)\n",
        "        unaltered_cut_value = cutvalue(G)\n",
        "        print('prior to merging, the max cut value of',key,'is', unaltered_cut_value)\n",
        "\n",
        "        # Merge: merge the results from the conquer stage\n",
        "        print('Merging these solutions together for a solution to',key)\n",
        "        # Define the border graph\n",
        "        bordergraph = FIX_ME(G, subgraph_dictionary)\n",
        "        # Define the merger graph\n",
        "        merger_graph = FIX_ME(bordergraph, subgraph_dictionary)\n",
        "\n",
        "        try:\n",
        "            # Apply QAOA to the merger graph\n",
        "            merger_results = FIX_ME(G, subgraph_dictionary, merger_graph)\n",
        "        except:\n",
        "            # In case QAOA for merger graph does not converge, don't flip any of the colors for the merger\n",
        "            mergerResultsList = [0]*nx.number_of_nodes(merger_graph)\n",
        "            merger_results = ''.join(str(x) for x in mergerResultsList)\n",
        "            print('Merging subroutine opted out with an error for', key)\n",
        "\n",
        "        # Color the nodes of G to indicate the merged subgraph solutions\n",
        "        alteredG, new_color_list = FIX_ME(subgraph_dictionary, G, merger_graph, merger_results)\n",
        "        newcut = cutvalue(alteredG)\n",
        "        print('the merger algorithm produced a new coloring of',key,'with cut value,',newcut)\n",
        "\n",
        "        return new_color_list\n",
        "\n",
        "\n",
        "\n"
      ]
    },
    {
      "cell_type": "markdown",
      "id": "e7efdcf5",
      "metadata": {
        "id": "e7efdcf5"
      },
      "source": [
        "Now let's run the recursive algorithm on a `sampleGraph3`.  Execute the cell below to run the algorithm sequentially.  This might be a good time to stand up and stretch or grab a cup of coffee.  It may take a few minutes for the program to run on one GPU sequentially. We'll explore how to parallelize this routine in the next section."
      ]
    },
    {
      "cell_type": "code",
      "execution_count": null,
      "id": "bb7818fa",
      "metadata": {
        "id": "bb7818fa",
        "outputId": "affd48ed-cf6a-469b-fea8-a7d6baf2e02d",
        "scrolled": true
      },
      "outputs": [],
      "source": [
        "num_subgraphs=11 # limits the size of the merger graphs\n",
        "num_qubits = 14 # max number of qubits allowed in a quantum circuit\n",
        "layer_count =1 # Layer count for the QAOA max cut\n",
        "seed = 101\n",
        "\n",
        "subgraph_solution(sampleGraph3, 'Global', num_subgraphs, num_qubits, layer_count, sampleGraph3, seed)"
      ]
    },
    {
      "cell_type": "markdown",
      "id": "cf3ad518",
      "metadata": {
        "id": "cf3ad518"
      },
      "source": [
        "This solution isn't as good as the classical approximations. In the remaining sections of this notebook, we'll suggest a few ways to improve the results."
      ]
    },
    {
      "cell_type": "markdown",
      "id": "2c16d534",
      "metadata": {
        "id": "2c16d534"
      },
      "source": [
        "##  3.5 Enabling Distributed Quantum Computing\n",
        "\n",
        "There are many opportunities for parallelization of quantum circuits. In this section we'll run the QAOA kernels for each subgraph simultaneously on multiple GPU processes, and this can easily be adapted to run on multiple QPUs in the future."
      ]
    },
    {
      "cell_type": "markdown",
      "id": "5f184113",
      "metadata": {
        "id": "5f184113"
      },
      "source": [
        "**Important** Before proceeding, you will need to switch to a runtime with access to a GPU.  If you do restart your kernel, make sure to reload the packages below. "
      ]
    },
    {
      "cell_type": "code",
      "execution_count": null,
      "id": "862c47a7",
      "metadata": {
        "id": "862c47a7"
      },
      "outputs": [],
      "source": [
        "#@title Execute this cell to reload the necessary packages\n",
        "import networkx as nx\n",
        "from networkx import algorithms\n",
        "from networkx.algorithms import community\n",
        "import cudaq\n",
        "from cudaq import spin\n",
        "from cudaq.qis import *\n",
        "import numpy as np\n",
        "import matplotlib.pyplot as plt\n",
        "from typing import List\n",
        "import sys"
      ]
    },
    {
      "cell_type": "code",
      "execution_count": null,
      "id": "e03558f6",
      "metadata": {},
      "outputs": [],
      "source": [
        "#@title Execute this cell to install mpi4py if necessary\n",
        "%pip install mpi4py"
      ]
    },
    {
      "cell_type": "markdown",
      "id": "ca3015e1",
      "metadata": {
        "id": "ca3015e1"
      },
      "source": [
        "\n",
        "\n",
        "The max cut problem for the `sampleGraph3` took some time to solve sequentially.  Like we did in [Lab 2](2_One-level-divide-and-conquer-QAOA.ipynb), we can create a python script to run the recursive algorithm in parallel. One option is to distribute the top-level of the recursion (e.g. solutions to `Global:0`, `Global:1`, ...`Global:n`) to the GPU processes, and then merge those results back together on GPU process 0.  We've created the script for this and saved it as Example-03.py. If you have not yet already done so, download [Example-03.py](https://github.com/mmvandieren/cuda-q-academic/blob/main/qaoa-for-max-cut/for-local-instance/Example-03.py) and save it in your working directory.   Execute the cell below to find a max cut approximation of `sampleGraph3` using 4 GPU processes."
      ]
    },
    {
      "cell_type": "code",
      "execution_count": null,
      "id": "ba5acf6e",
      "metadata": {
        "id": "ba5acf6e",
        "outputId": "532e619f-c365-435b-d2a2-256b21c149d6",
        "scrolled": true
      },
      "outputs": [],
      "source": [
        "# MPI call\n",
        "print(sys.executable)\n",
        "python_path = sys.executable\n",
        "!mpiexec -np 4 {python_path} Example-03.py"
      ]
    },
    {
      "cell_type": "markdown",
      "id": "906425d0",
      "metadata": {
        "id": "906425d0"
      },
      "source": [
        "Notice how much more quickly the solution was found compared to the sequential implementation.  With this speed up, let's try to find even better approximations.  Try editing the `layer_count` for the QAOA max cut solution of the small graphs. You can find this on  `line 502: layer_count =1 # Layer count for the QAOA max cut` of the [Example-03.py](Example-03.py) file. Also, try out different seed values (`line 647: seed = 13 # Edit this seed for new initial parameters among other seed-dependent elements`). See how much our results change!  \n",
        "\n",
        "Feel free to experiment with different sample graphs (`lines 706-730`) by commenting the code and changing the number of vertices and other graph variables.\n",
        "\n",
        "Can you think of alternative methods of parallelizing the tasks in the divide-and-conquer QAOA?"
      ]
    },
    {
      "cell_type": "markdown",
      "id": "9be026cb",
      "metadata": {
        "id": "9be026cb"
      },
      "source": [
        "## 3.6 Further Directions for Experimentation\n",
        "\n",
        "There were many aspects of the QAOA algorithm that we held constant throughout this series of labs.  These include the choice of the graph partitioning routine, the initial superposition state in the QAOA kernel, the number of layers in the QAOA kernels, the initial parameters used in the optimization loop, and the optimizer selected for the optimization loop. In addition to making changes to these features, the QAOA kernel could be swapped out for an alternative variational ansatz, and the parallelization protocol could be optimized for the given problem.\n",
        "\n",
        "* **Graph partitioning:** The graph partitioning can drastically affect the results of the algorithm.  There are many ways to subdivide a graph, and we encourage you to explore other possibilities. For example, the Louvain algorithm was used by [Yue et al.](https://arxiv.org/abs/2310.05062) and by [Guerreschi](https://arxiv.org/abs/2101.07813) for quantum divide-and-conquer approaches to the Max Cut problem. [Angel Rodriquez-Fernandez et al.](https://www.mdpi.com/2079-3197/8/3/75) analyzed five other clustering algorithms to improve the Goemans-Williamson classical approximation for Max-Cut, and these clustering algorithms could be experimented with here.\n",
        "\n",
        "* **Initial state:** In [Lab 1](1_Overview-Max-Cut-with-QAOA.ipynb), we initiated the QAOA kernel in an equal superposition state to represent all possible colorings of the vertices.  However, if we had some information about the structure of the graph, for instance an approximate solution from a classical relaxation of the problems, we could \"warm start\" the circuit with this information as in [Egger et al.](https://quantum-journal.org/papers/q-2021-06-17-479/) and [Tate et al.](https://quantum-journal.org/papers/q-2023-09-26-1121/). For this to work, the mixer Hamiltonian would also need to be adjusted.\n",
        "\n",
        "* **Layer count:** We've already begun to experiment with the layer count. It is known that as the number of layers increase to infinity, the QAOA max cut approximations approach the max cut value of the graph ([Farhi and Goldstone](https://arxiv.org/pdf/1411.4028.pdf)).\n",
        "\n",
        "* **Initial parameters:** As we saw in this lab, by varying the seed for generating the random initial parameters, we obtained quite different results.  Recent work points to several protocols for selecting better performing initial parameters (see for instance the work of [Sureshbabu et al.](https://arxiv.org/abs/2305.15201)).\n",
        "\n",
        "* **Optimizer:** Throughout this series of labs we defaulted to the COBYLA optimizer for the optimizer loop in the  algorithm.  There are several other non-gradient and gradient-based optimizers available in CUDA-Q for you to try, and you can use your favorite sci.py optimizer as well.  See the full list of built-in CUDA-Q optimizers [here](https://nvidia.github.io/cuda-quantum/latest/api/languages/python_api.html#cudaq.optimizers.optimizer).\n",
        "\n",
        "* **QAOA kernel:** We used a standard QAOA kernel throughout this tutorial. There are several adaptations that could be made to the QAOA kernel. For example, one could replace the QAOA kernel with a similarly structured [multi-angle QAOA kernel](https://www.nature.com/articles/s41598-022-10555-8). The difference between the QAOA kernel and the multi-angle QAOA kernel is that instead of each layer having distinct parameters for the problem and the mixer kernels, each parameterized rotational gate would have its own distinct parameter. Furthermore, other completely different variational circuit structures could replace the QAOA kernel in our algorithm. [Lee et al.](https://arxiv.org/abs/2105.01114) compared several options and concluded that noncommunativity and entanglement in the variational kernel were important for improving algorithm performance.\n",
        "\n",
        "* **Parallelization:** Finally, our choice of how to distribute the subgraph problems onto the GPU was quite arbitrary, and some GPU processes sat idle while others were finishing their tasks.  By first analyzing the subgraph partition, we might find a better distribution of tasks to the GPU to avoid down time.  Also, our parallelization protocol used one GPU to simulate multiple QPUs.  It is possible to assign multiple GPUs to simulate one QPU, which would be necessary for larger circuits.  To learn more about this option, check out the documentation on [the `remote-mqpu` platform](https://nvidia.github.io/cuda-quantum/0.6.0/using/cudaq/platform.html#remote-mqpu-platform).  Additionally, CUDA Quantum offers an `execution()` option for `observe` and asynchronous primitives `sample_async` and `observe_async`. You can read more about these functions [here](https://nvidia.github.io/cuda-quantum/0.6.0/examples/python/tutorials/multi_gpu_workflows.html).\n",
        "  "
      ]
    },
    {
      "cell_type": "markdown",
      "id": "a148ef90",
      "metadata": {
        "id": "a148ef90"
      },
      "source": [
        "## Next\n",
        "Congratulations on solving max cut problems with the divide-and-conquer QAOA!  It's now time to see if you can apply what you have learned to a weighted graph in the [next notebook](4_Weighted-max-cut.ipynb).  Good luck!\n"
      ]
    },
    {
      "cell_type": "markdown",
      "id": "1e090881",
      "metadata": {
        "id": "1e090881"
      },
      "source": [
        "![](https://github.com/mmvandieren/cuda-q-academic/blob/main/qaoa-for-max-cut/images/nvidia-logo.png?raw=1)"
      ]
    }
  ],
  "metadata": {
    "colab": {
      "include_colab_link": true,
      "provenance": []
    },
    "kernelspec": {
      "display_name": "Python 3 (ipykernel)",
      "language": "python",
      "name": "python3"
    },
    "language_info": {
      "codemirror_mode": {
        "name": "ipython",
        "version": 3
      },
      "file_extension": ".py",
      "mimetype": "text/x-python",
      "name": "python",
      "nbconvert_exporter": "python",
      "pygments_lexer": "ipython3",
      "version": "3.10.12"
    }
  },
  "nbformat": 4,
  "nbformat_minor": 5
}
