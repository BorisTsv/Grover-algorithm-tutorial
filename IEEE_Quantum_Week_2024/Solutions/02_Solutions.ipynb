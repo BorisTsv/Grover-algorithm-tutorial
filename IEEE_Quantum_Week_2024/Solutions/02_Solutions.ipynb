{
 "cells": [
  {
   "cell_type": "markdown",
   "metadata": {},
   "source": [
    "## Solutions for the 02_One-level-divide-and-conquer-QAOA.ipynb"
   ]
  },
  {
   "cell_type": "code",
   "execution_count": null,
   "metadata": {},
   "outputs": [],
   "source": [
    "# Execise 1 Solution\n",
    "randomlist = np.random.choice(30000,20)\n",
    "\n",
    "sum_of_approximations = 0\n",
    "\n",
    "for i in range(20):\n",
    "   seed = int(randomlist[i])\n",
    "   sum_of_approximations += nx.algorithms.approximation.one_exchange(sampleGraph2, initial_cut=None, seed=seed)[0]\n",
    "\n",
    "average_approx = sum_of_approximations/20\n",
    "print('The greedy modularity maximization algorithm gives an average approximate Max Cut value of',average_approx)"
   ]
  },
  {
   "cell_type": "code",
   "execution_count": null,
   "metadata": {},
   "outputs": [],
   "source": [
    "# Exercise 2 Solution\n",
    "layer_count =1\n",
    "results = {}\n",
    "new_seed_for_each_graph = 0\n",
    "shots = 25000\n",
    "for key in subgraph_dictionary:\n",
    "    G = subgraph_dictionary[key]\n",
    "    results[key] = qaoa_for_graph(G, layer_count, shots, seed=653+new_seed_for_each_graph)\n",
    "    new_seed_for_each_graph+=1\n",
    "    print('The max cut QAOA coloring for the subgraph',key,'is',results[key])"
   ]
  },
  {
   "cell_type": "code",
   "execution_count": null,
   "metadata": {},
   "outputs": [],
   "source": [
    "# Exercise 3 Solution\n",
    "union_cut_value = 0\n",
    "union_cut_edges = []\n",
    "for u, v in sampleGraph2.edges():\n",
    "    if sampleGraph2.nodes[u]['color']   !=sampleGraph2.nodes[v]['color']   :\n",
    "            union_cut_value+=1\n",
    "            union_cut_edges.append((u,v))\n",
    "print('The max cut value approximated from the subgraph colorings with no additional optimization is',union_cut_value)\n"
   ]
  },
  {
   "cell_type": "code",
   "execution_count": null,
   "metadata": {},
   "outputs": [],
   "source": [
    "# Exercise 4 Solution\n",
    "# Add attribute to capture the penalties of changing subgraph colors\n",
    "\n",
    "# Initialize all the penalties to 0\n",
    "nx.set_edge_attributes(mergerGraph, int(0), 'penalty')\n",
    "\n",
    "# Compute penalties for each edge\n",
    "for i, j in mergerGraph.edges():\n",
    "   penalty_ij = 0\n",
    "   for u in subgraph_dictionary[i].nodes():\n",
    "      for neighbor_u in nx.all_neighbors(sampleGraph2, u):\n",
    "         if neighbor_u in subgraph_dictionary[j]:\n",
    "            if sampleGraph2.nodes[u]['color'] != sampleGraph2.nodes[neighbor_u]['color']:\n",
    "               penalty_ij += 1\n",
    "            else:\n",
    "               penalty_ij += -1\n",
    "   mergerGraph[i][j]['penalty'] = penalty_ij\n",
    "\n",
    "\n",
    "# Graph the penalties of each edge\n",
    "edge_labels = nx.get_edge_attributes(mergerGraph, 'penalty')\n",
    "nx.draw_networkx_edge_labels(mergerGraph,  edge_labels=edge_labels,  pos=pos_merger)\n",
    "nx.draw(mergerGraph, node_color = merger_color_map, pos = pos_merger, with_labels=True)\n",
    "plt.show()\n",
    "\n"
   ]
  },
  {
   "cell_type": "code",
   "execution_count": null,
   "metadata": {},
   "outputs": [],
   "source": [
    "# Exercise 5 Solution\n",
    "# Run QAOA on the merger subgraph to identify which subgraphs\n",
    "# if any should change colors\n",
    "\n",
    "layer_count_merger = 1 # set arbitrarily\n",
    "parameter_count_merger: int = 2 * layer_count_merger\n",
    "\n",
    "# Specify the optimizer and its initial parameters. Make it repeatable.\n",
    "cudaq.set_random_seed(101)\n",
    "optimizer_merger = cudaq.optimizers.COBYLA()\n",
    "np.random.seed(101)\n",
    "optimizer_merger.initial_parameters = np.random.uniform(-np.pi, np.pi,\n",
    "                                                     parameter_count_merger)\n",
    "optimizer_merger.max_iterations=150\n",
    "\n",
    "merger_nodes = list(mergerGraph.nodes())\n",
    "qubit_count = len(merger_nodes)\n",
    "merger_edge_src = []\n",
    "merger_edge_tgt = []\n",
    "for u, v in nx.edges(mergerGraph):\n",
    "    # We can use the index() command to read out the qubits associated with the vertex u and v.\n",
    "    merger_edge_src.append(merger_nodes.index(u))\n",
    "    merger_edge_tgt.append(merger_nodes.index(v))\n",
    "\n",
    "# Pass the kernel, spin operator, and optimizer to `cudaq.vqe`.\n",
    "optimal_expectation, optimal_parameters = cudaq.vqe(\n",
    "    kernel=kernel_qaoa,\n",
    "    spin_operator=mHamiltonian(mergerGraph),\n",
    "    argument_mapper=lambda parameter_vector: (qubit_count, layer_count, merger_edge_src, merger_edge_tgt, parameter_vector),\n",
    "    optimizer=optimizer_merger,\n",
    "    parameter_count=parameter_count_merger,\n",
    "    shots = 10000)\n",
    "\n",
    "# Print the optimized value and its parameters\n",
    "print(\"Optimal value = \", optimal_expectation)\n",
    "print(\"Optimal parameters = \", optimal_parameters)\n",
    "\n",
    "# Sample the circuit using the optimized parameters\n",
    "sample_number=15000\n",
    "counts = cudaq.sample(kernel_qaoa, qubit_count, layer_count, merger_edge_src, merger_edge_tgt, optimal_parameters, shots_count=shots)\n",
    "print(f\"most_probable = {counts.most_probable()}\")\n",
    "\n",
    "# Merger results\n",
    "mergerResultsString=counts.most_probable()"
   ]
  },
  {
   "cell_type": "code",
   "execution_count": null,
   "metadata": {},
   "outputs": [],
   "source": [
    "# Exercise 6 Solution\n",
    "# Assign the subgraphs to the QPUs\n",
    "num_qpus = 4\n",
    "number_of_subgraphs = len(sorted(subgraph_dictionary))\n",
    "number_of_subgraphs_per_qpu = int(np.ceil(number_of_subgraphs/num_qpus))\n",
    "\n",
    "keys_on_qpu ={}\n",
    "\n",
    "for q in range(num_qpus):\n",
    "    keys_on_qpu[q]=[]\n",
    "    for k in range(number_of_subgraphs_per_qpu):\n",
    "        if (k*num_qpus+q < number_of_subgraphs):\n",
    "            key = sorted(subgraph_dictionary)[k*num_qpus+q]\n",
    "            keys_on_qpu[q].append(key)\n",
    "    print(keys_on_qpu[q],'=subgraph problems to be computed on processor',q)"
   ]
  },
  {
   "cell_type": "code",
   "execution_count": null,
   "metadata": {},
   "outputs": [],
   "source": [
    "# Exercise 7 Solution\n",
    "# Note that this cell block will generate an error message when executed in the Jupyter notebook.\n",
    "# You will need to copy the code over to the Example-02-step-2.py file and \n",
    "# save the result as Example-02-step-2-Solution.py\n",
    "\n",
    "# Let's introduce another MPI function that will be useful to\n",
    "# iterate over all the GPUs.\n",
    "size = comm.Get_size()\n",
    "\n",
    "# Copy the results over to QPU 0 for consolidation\n",
    "if rank!=0:\n",
    "    comm.send(results, dest=0, tag=0)\n",
    "    print(\"{} sent by processor {}\".format(results, rank))\n",
    "else:\n",
    "    for j in range(1,size,1):\n",
    "        colors = comm.recv(source=j, tag=0)\n",
    "        print(\"Received {} from processor {}\".format(colors, j))\n",
    "        for key in colors:\n",
    "            results[key]=colors[key]\n",
    "    print(\"The results dictionary on GPU 0 =\", results)\n"
   ]
  }
 ],
 "metadata": {
  "language_info": {
   "name": "python"
  }
 },
 "nbformat": 4,
 "nbformat_minor": 2
}
